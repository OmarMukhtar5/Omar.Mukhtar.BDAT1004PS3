{
 "cells": [
  {
   "cell_type": "markdown",
   "id": "679f2c34",
   "metadata": {},
   "source": [
    "# Problem Set 3\n"
   ]
  },
  {
   "cell_type": "markdown",
   "id": "2224127f",
   "metadata": {},
   "source": [
    "# Question 1\n",
    "Introduction:\n",
    "Special thanks to: https://github.com/justmarkham for sharing the dataset and\n",
    "materials.\n",
    "Occupations\n",
    "<ol>\n",
    "   <li>  Import the necessary libraries </li>\n",
    "   <li>  Import the dataset from this address.</li>\n",
    "   <li>  Assign it to a variable called users.</li>\n",
    "   <li>  Discover what is the mean age per occupation</li>\n",
    "   <li>  Discover the Male ratio per occupation and sort it from the most to the least</li>\n",
    "   <li>  For each occupation, calculate the minimum and maximum ages </li>\n",
    "   <li>  For each combination of occupation and sex, calculate the mean age </li>\n",
    "   <li>  For each occupation present the percentage of women and men </li>\n",
    "</ol>    "
   ]
  },
  {
   "cell_type": "code",
   "execution_count": 1,
   "id": "2f60fdb4",
   "metadata": {},
   "outputs": [
    {
     "data": {
      "text/html": [
       "<div>\n",
       "<style scoped>\n",
       "    .dataframe tbody tr th:only-of-type {\n",
       "        vertical-align: middle;\n",
       "    }\n",
       "\n",
       "    .dataframe tbody tr th {\n",
       "        vertical-align: top;\n",
       "    }\n",
       "\n",
       "    .dataframe thead th {\n",
       "        text-align: right;\n",
       "    }\n",
       "</style>\n",
       "<table border=\"1\" class=\"dataframe\">\n",
       "  <thead>\n",
       "    <tr style=\"text-align: right;\">\n",
       "      <th></th>\n",
       "      <th>user_id</th>\n",
       "      <th>age</th>\n",
       "      <th>gender</th>\n",
       "      <th>occupation</th>\n",
       "      <th>zip_code</th>\n",
       "    </tr>\n",
       "  </thead>\n",
       "  <tbody>\n",
       "    <tr>\n",
       "      <th>0</th>\n",
       "      <td>1</td>\n",
       "      <td>24</td>\n",
       "      <td>M</td>\n",
       "      <td>technician</td>\n",
       "      <td>85711</td>\n",
       "    </tr>\n",
       "    <tr>\n",
       "      <th>1</th>\n",
       "      <td>2</td>\n",
       "      <td>53</td>\n",
       "      <td>F</td>\n",
       "      <td>other</td>\n",
       "      <td>94043</td>\n",
       "    </tr>\n",
       "    <tr>\n",
       "      <th>2</th>\n",
       "      <td>3</td>\n",
       "      <td>23</td>\n",
       "      <td>M</td>\n",
       "      <td>writer</td>\n",
       "      <td>32067</td>\n",
       "    </tr>\n",
       "    <tr>\n",
       "      <th>3</th>\n",
       "      <td>4</td>\n",
       "      <td>24</td>\n",
       "      <td>M</td>\n",
       "      <td>technician</td>\n",
       "      <td>43537</td>\n",
       "    </tr>\n",
       "    <tr>\n",
       "      <th>4</th>\n",
       "      <td>5</td>\n",
       "      <td>33</td>\n",
       "      <td>F</td>\n",
       "      <td>other</td>\n",
       "      <td>15213</td>\n",
       "    </tr>\n",
       "  </tbody>\n",
       "</table>\n",
       "</div>"
      ],
      "text/plain": [
       "   user_id  age gender  occupation zip_code\n",
       "0        1   24      M  technician    85711\n",
       "1        2   53      F       other    94043\n",
       "2        3   23      M      writer    32067\n",
       "3        4   24      M  technician    43537\n",
       "4        5   33      F       other    15213"
      ]
     },
     "execution_count": 1,
     "metadata": {},
     "output_type": "execute_result"
    }
   ],
   "source": [
    "#step 1,2 and 3\n",
    "\n",
    "import pandas as pd\n",
    "import numpy as np\n",
    "\n",
    "dataset_address = 'https://raw.githubusercontent.com/justmarkham/DAT8/master/data/u.user'\n",
    "\n",
    "users = pd.read_csv(dataset_address, sep='|')\n",
    "users.head()"
   ]
  },
  {
   "cell_type": "code",
   "execution_count": 2,
   "id": "fb4b0f1f",
   "metadata": {},
   "outputs": [
    {
     "name": "stdout",
     "output_type": "stream",
     "text": [
      "occupation\n",
      "administrator    38.746835\n",
      "artist           31.392857\n",
      "doctor           43.571429\n",
      "educator         42.010526\n",
      "engineer         36.388060\n",
      "entertainment    29.222222\n",
      "executive        38.718750\n",
      "healthcare       41.562500\n",
      "homemaker        32.571429\n",
      "lawyer           36.750000\n",
      "librarian        40.000000\n",
      "marketing        37.615385\n",
      "none             26.555556\n",
      "other            34.523810\n",
      "programmer       33.121212\n",
      "retired          63.071429\n",
      "salesman         35.666667\n",
      "scientist        35.548387\n",
      "student          22.081633\n",
      "technician       33.148148\n",
      "writer           36.311111\n",
      "Name: age, dtype: float64\n"
     ]
    }
   ],
   "source": [
    "#step 4\n",
    "mean_age_per_occupation = users.groupby('occupation')['age'].mean()\n",
    "print(mean_age_per_occupation)"
   ]
  },
  {
   "cell_type": "code",
   "execution_count": 3,
   "id": "dd62347c",
   "metadata": {},
   "outputs": [
    {
     "name": "stdout",
     "output_type": "stream",
     "text": [
      "occupation\n",
      "doctor           1.000000\n",
      "engineer         0.970149\n",
      "technician       0.962963\n",
      "retired          0.928571\n",
      "programmer       0.909091\n",
      "executive        0.906250\n",
      "scientist        0.903226\n",
      "entertainment    0.888889\n",
      "lawyer           0.833333\n",
      "salesman         0.750000\n",
      "educator         0.726316\n",
      "student          0.693878\n",
      "other            0.657143\n",
      "marketing        0.615385\n",
      "writer           0.577778\n",
      "none             0.555556\n",
      "administrator    0.544304\n",
      "artist           0.535714\n",
      "librarian        0.431373\n",
      "healthcare       0.312500\n",
      "homemaker        0.142857\n",
      "dtype: float64\n"
     ]
    }
   ],
   "source": [
    "#Step 5\n",
    "\n",
    "male_ratio_per_occupation = users[users['gender'] == 'M'].groupby('occupation').size() / users.groupby('occupation').size()\n",
    "male_ratio_per_occupation = male_ratio_per_occupation.sort_values(ascending=False)\n",
    "print(male_ratio_per_occupation)"
   ]
  },
  {
   "cell_type": "code",
   "execution_count": 4,
   "id": "834ebb19",
   "metadata": {},
   "outputs": [
    {
     "name": "stdout",
     "output_type": "stream",
     "text": [
      "               min  max\n",
      "occupation             \n",
      "administrator   21   70\n",
      "artist          19   48\n",
      "doctor          28   64\n",
      "educator        23   63\n",
      "engineer        22   70\n",
      "entertainment   15   50\n",
      "executive       22   69\n",
      "healthcare      22   62\n",
      "homemaker       20   50\n",
      "lawyer          21   53\n",
      "librarian       23   69\n",
      "marketing       24   55\n",
      "none            11   55\n",
      "other           13   64\n",
      "programmer      20   63\n",
      "retired         51   73\n",
      "salesman        18   66\n",
      "scientist       23   55\n",
      "student          7   42\n",
      "technician      21   55\n",
      "writer          18   60\n"
     ]
    }
   ],
   "source": [
    "#Step 6\n",
    "\n",
    "min_max_ages_per_occupation = users.groupby('occupation')['age'].agg(['min', 'max'])\n",
    "print(min_max_ages_per_occupation)\n"
   ]
  },
  {
   "cell_type": "code",
   "execution_count": 5,
   "id": "8922babd",
   "metadata": {},
   "outputs": [
    {
     "name": "stdout",
     "output_type": "stream",
     "text": [
      "occupation     gender\n",
      "administrator  F         40.638889\n",
      "               M         37.162791\n",
      "artist         F         30.307692\n",
      "               M         32.333333\n",
      "doctor         M         43.571429\n",
      "educator       F         39.115385\n",
      "               M         43.101449\n",
      "engineer       F         29.500000\n",
      "               M         36.600000\n",
      "entertainment  F         31.000000\n",
      "               M         29.000000\n",
      "executive      F         44.000000\n",
      "               M         38.172414\n",
      "healthcare     F         39.818182\n",
      "               M         45.400000\n",
      "homemaker      F         34.166667\n",
      "               M         23.000000\n",
      "lawyer         F         39.500000\n",
      "               M         36.200000\n",
      "librarian      F         40.000000\n",
      "               M         40.000000\n",
      "marketing      F         37.200000\n",
      "               M         37.875000\n",
      "none           F         36.500000\n",
      "               M         18.600000\n",
      "other          F         35.472222\n",
      "               M         34.028986\n",
      "programmer     F         32.166667\n",
      "               M         33.216667\n",
      "retired        F         70.000000\n",
      "               M         62.538462\n",
      "salesman       F         27.000000\n",
      "               M         38.555556\n",
      "scientist      F         28.333333\n",
      "               M         36.321429\n",
      "student        F         20.750000\n",
      "               M         22.669118\n",
      "technician     F         38.000000\n",
      "               M         32.961538\n",
      "writer         F         37.631579\n",
      "               M         35.346154\n",
      "Name: age, dtype: float64\n"
     ]
    }
   ],
   "source": [
    "# Step 7\n",
    "\n",
    "mean_age_per_occupation_and_gender = users.groupby(['occupation', 'gender'])['age'].mean()\n",
    "print(mean_age_per_occupation_and_gender)"
   ]
  },
  {
   "cell_type": "code",
   "execution_count": 6,
   "id": "4bd8d8c5",
   "metadata": {},
   "outputs": [
    {
     "name": "stdout",
     "output_type": "stream",
     "text": [
      "occupation     gender\n",
      "administrator  F          45.569620\n",
      "               M          54.430380\n",
      "artist         F          46.428571\n",
      "               M          53.571429\n",
      "doctor         M         100.000000\n",
      "educator       F          27.368421\n",
      "               M          72.631579\n",
      "engineer       F           2.985075\n",
      "               M          97.014925\n",
      "entertainment  F          11.111111\n",
      "               M          88.888889\n",
      "executive      F           9.375000\n",
      "               M          90.625000\n",
      "healthcare     F          68.750000\n",
      "               M          31.250000\n",
      "homemaker      F          85.714286\n",
      "               M          14.285714\n",
      "lawyer         F          16.666667\n",
      "               M          83.333333\n",
      "librarian      F          56.862745\n",
      "               M          43.137255\n",
      "marketing      F          38.461538\n",
      "               M          61.538462\n",
      "none           F          44.444444\n",
      "               M          55.555556\n",
      "other          F          34.285714\n",
      "               M          65.714286\n",
      "programmer     F           9.090909\n",
      "               M          90.909091\n",
      "retired        F           7.142857\n",
      "               M          92.857143\n",
      "salesman       F          25.000000\n",
      "               M          75.000000\n",
      "scientist      F           9.677419\n",
      "               M          90.322581\n",
      "student        F          30.612245\n",
      "               M          69.387755\n",
      "technician     F           3.703704\n",
      "               M          96.296296\n",
      "writer         F          42.222222\n",
      "               M          57.777778\n",
      "dtype: float64\n"
     ]
    }
   ],
   "source": [
    "# step 8\n",
    "\n",
    "total_per_occupation = users.groupby('occupation').size()\n",
    "percentage_per_occupation = users.groupby(['occupation', 'gender']).size() / total_per_occupation * 100\n",
    "print(percentage_per_occupation)"
   ]
  },
  {
   "cell_type": "markdown",
   "id": "1e598aef",
   "metadata": {},
   "source": [
    "# Question 2\n",
    "Euro Teams\n",
    "<ol>\n",
    "    <li>Import the necessary libraries</li>\n",
    "    <li>Import the dataset from this address</li>\n",
    "    <li> Assign it to a variable called euro12</li>\n",
    "    <li>Select only the Goal column</li>\n",
    "    <li>How many team participated in the Euro2012?</li>\n",
    "    <li>What is the number of columns in the dataset?</li>\n",
    "    <li>View only the columns Team, Yellow Cards and Red Cards and assign them to a dataframe called discipline</li>\n",
    "    <li>Sort the teams by Red Cards, then to Yellow Cards</li>\n",
    "    <li>Calculate the mean Yellow Cards given per Team</li>\n",
    "    <li>Filter teams that scored more than 6 goalsStep </li>\n",
    "    <li>Select the teams that start with G</li>\n",
    "    <li>Select the first 7 columns</li>\n",
    "    <li>Select all columns except the last 3</li>\n",
    "    <li>Present only the Shooting Accuracy from England, Italy and Russia</li>\n",
    "</ol>    "
   ]
  },
  {
   "cell_type": "code",
   "execution_count": 7,
   "id": "ed9bc46e",
   "metadata": {},
   "outputs": [
    {
     "data": {
      "text/html": [
       "<div>\n",
       "<style scoped>\n",
       "    .dataframe tbody tr th:only-of-type {\n",
       "        vertical-align: middle;\n",
       "    }\n",
       "\n",
       "    .dataframe tbody tr th {\n",
       "        vertical-align: top;\n",
       "    }\n",
       "\n",
       "    .dataframe thead th {\n",
       "        text-align: right;\n",
       "    }\n",
       "</style>\n",
       "<table border=\"1\" class=\"dataframe\">\n",
       "  <thead>\n",
       "    <tr style=\"text-align: right;\">\n",
       "      <th></th>\n",
       "      <th>Team</th>\n",
       "      <th>Goals</th>\n",
       "      <th>Shots on target</th>\n",
       "      <th>Shots off target</th>\n",
       "      <th>Shooting Accuracy</th>\n",
       "      <th>% Goals-to-shots</th>\n",
       "      <th>Total shots (inc. Blocked)</th>\n",
       "      <th>Hit Woodwork</th>\n",
       "      <th>Penalty goals</th>\n",
       "      <th>Penalties not scored</th>\n",
       "      <th>...</th>\n",
       "      <th>Saves made</th>\n",
       "      <th>Saves-to-shots ratio</th>\n",
       "      <th>Fouls Won</th>\n",
       "      <th>Fouls Conceded</th>\n",
       "      <th>Offsides</th>\n",
       "      <th>Yellow Cards</th>\n",
       "      <th>Red Cards</th>\n",
       "      <th>Subs on</th>\n",
       "      <th>Subs off</th>\n",
       "      <th>Players Used</th>\n",
       "    </tr>\n",
       "  </thead>\n",
       "  <tbody>\n",
       "    <tr>\n",
       "      <th>0</th>\n",
       "      <td>Croatia</td>\n",
       "      <td>4</td>\n",
       "      <td>13</td>\n",
       "      <td>12</td>\n",
       "      <td>51.9%</td>\n",
       "      <td>16.0%</td>\n",
       "      <td>32</td>\n",
       "      <td>0</td>\n",
       "      <td>0</td>\n",
       "      <td>0</td>\n",
       "      <td>...</td>\n",
       "      <td>13</td>\n",
       "      <td>81.3%</td>\n",
       "      <td>41</td>\n",
       "      <td>62</td>\n",
       "      <td>2</td>\n",
       "      <td>9</td>\n",
       "      <td>0</td>\n",
       "      <td>9</td>\n",
       "      <td>9</td>\n",
       "      <td>16</td>\n",
       "    </tr>\n",
       "    <tr>\n",
       "      <th>1</th>\n",
       "      <td>Czech Republic</td>\n",
       "      <td>4</td>\n",
       "      <td>13</td>\n",
       "      <td>18</td>\n",
       "      <td>41.9%</td>\n",
       "      <td>12.9%</td>\n",
       "      <td>39</td>\n",
       "      <td>0</td>\n",
       "      <td>0</td>\n",
       "      <td>0</td>\n",
       "      <td>...</td>\n",
       "      <td>9</td>\n",
       "      <td>60.1%</td>\n",
       "      <td>53</td>\n",
       "      <td>73</td>\n",
       "      <td>8</td>\n",
       "      <td>7</td>\n",
       "      <td>0</td>\n",
       "      <td>11</td>\n",
       "      <td>11</td>\n",
       "      <td>19</td>\n",
       "    </tr>\n",
       "    <tr>\n",
       "      <th>2</th>\n",
       "      <td>Denmark</td>\n",
       "      <td>4</td>\n",
       "      <td>10</td>\n",
       "      <td>10</td>\n",
       "      <td>50.0%</td>\n",
       "      <td>20.0%</td>\n",
       "      <td>27</td>\n",
       "      <td>1</td>\n",
       "      <td>0</td>\n",
       "      <td>0</td>\n",
       "      <td>...</td>\n",
       "      <td>10</td>\n",
       "      <td>66.7%</td>\n",
       "      <td>25</td>\n",
       "      <td>38</td>\n",
       "      <td>8</td>\n",
       "      <td>4</td>\n",
       "      <td>0</td>\n",
       "      <td>7</td>\n",
       "      <td>7</td>\n",
       "      <td>15</td>\n",
       "    </tr>\n",
       "    <tr>\n",
       "      <th>3</th>\n",
       "      <td>England</td>\n",
       "      <td>5</td>\n",
       "      <td>11</td>\n",
       "      <td>18</td>\n",
       "      <td>50.0%</td>\n",
       "      <td>17.2%</td>\n",
       "      <td>40</td>\n",
       "      <td>0</td>\n",
       "      <td>0</td>\n",
       "      <td>0</td>\n",
       "      <td>...</td>\n",
       "      <td>22</td>\n",
       "      <td>88.1%</td>\n",
       "      <td>43</td>\n",
       "      <td>45</td>\n",
       "      <td>6</td>\n",
       "      <td>5</td>\n",
       "      <td>0</td>\n",
       "      <td>11</td>\n",
       "      <td>11</td>\n",
       "      <td>16</td>\n",
       "    </tr>\n",
       "    <tr>\n",
       "      <th>4</th>\n",
       "      <td>France</td>\n",
       "      <td>3</td>\n",
       "      <td>22</td>\n",
       "      <td>24</td>\n",
       "      <td>37.9%</td>\n",
       "      <td>6.5%</td>\n",
       "      <td>65</td>\n",
       "      <td>1</td>\n",
       "      <td>0</td>\n",
       "      <td>0</td>\n",
       "      <td>...</td>\n",
       "      <td>6</td>\n",
       "      <td>54.6%</td>\n",
       "      <td>36</td>\n",
       "      <td>51</td>\n",
       "      <td>5</td>\n",
       "      <td>6</td>\n",
       "      <td>0</td>\n",
       "      <td>11</td>\n",
       "      <td>11</td>\n",
       "      <td>19</td>\n",
       "    </tr>\n",
       "  </tbody>\n",
       "</table>\n",
       "<p>5 rows × 35 columns</p>\n",
       "</div>"
      ],
      "text/plain": [
       "             Team  Goals  Shots on target  Shots off target Shooting Accuracy  \\\n",
       "0         Croatia      4               13                12             51.9%   \n",
       "1  Czech Republic      4               13                18             41.9%   \n",
       "2         Denmark      4               10                10             50.0%   \n",
       "3         England      5               11                18             50.0%   \n",
       "4          France      3               22                24             37.9%   \n",
       "\n",
       "  % Goals-to-shots  Total shots (inc. Blocked)  Hit Woodwork  Penalty goals  \\\n",
       "0            16.0%                          32             0              0   \n",
       "1            12.9%                          39             0              0   \n",
       "2            20.0%                          27             1              0   \n",
       "3            17.2%                          40             0              0   \n",
       "4             6.5%                          65             1              0   \n",
       "\n",
       "   Penalties not scored  ...  Saves made  Saves-to-shots ratio  Fouls Won  \\\n",
       "0                     0  ...          13                 81.3%         41   \n",
       "1                     0  ...           9                 60.1%         53   \n",
       "2                     0  ...          10                 66.7%         25   \n",
       "3                     0  ...          22                 88.1%         43   \n",
       "4                     0  ...           6                 54.6%         36   \n",
       "\n",
       "  Fouls Conceded  Offsides  Yellow Cards  Red Cards  Subs on  Subs off  \\\n",
       "0             62         2             9          0        9         9   \n",
       "1             73         8             7          0       11        11   \n",
       "2             38         8             4          0        7         7   \n",
       "3             45         6             5          0       11        11   \n",
       "4             51         5             6          0       11        11   \n",
       "\n",
       "   Players Used  \n",
       "0            16  \n",
       "1            19  \n",
       "2            15  \n",
       "3            16  \n",
       "4            19  \n",
       "\n",
       "[5 rows x 35 columns]"
      ]
     },
     "execution_count": 7,
     "metadata": {},
     "output_type": "execute_result"
    }
   ],
   "source": [
    "# Step 1, Step 2 and Step 3\n",
    "\n",
    "import pandas as pd\n",
    "\n",
    "data_url = \"https://raw.githubusercontent.com/guipsamora/pandas_exercises/master/02_Filtering_%26_Sorting/Euro12/Euro_2012_stats_TEAM.csv\"\n",
    "\n",
    "euro12 = pd.read_csv(data_url)\n",
    "euro12.head()"
   ]
  },
  {
   "cell_type": "code",
   "execution_count": 8,
   "id": "68608205",
   "metadata": {},
   "outputs": [
    {
     "name": "stdout",
     "output_type": "stream",
     "text": [
      "0      4\n",
      "1      4\n",
      "2      4\n",
      "3      5\n",
      "4      3\n",
      "5     10\n",
      "6      5\n",
      "7      6\n",
      "8      2\n",
      "9      2\n",
      "10     6\n",
      "11     1\n",
      "12     5\n",
      "13    12\n",
      "14     5\n",
      "15     2\n",
      "Name: Goals, dtype: int64\n"
     ]
    }
   ],
   "source": [
    "# Step 4\n",
    "\n",
    "goals_column = euro12['Goals']\n",
    "print(goals_column)"
   ]
  },
  {
   "cell_type": "code",
   "execution_count": 9,
   "id": "2fb74c82",
   "metadata": {},
   "outputs": [
    {
     "name": "stdout",
     "output_type": "stream",
     "text": [
      "16\n"
     ]
    }
   ],
   "source": [
    "# Step 5\n",
    "\n",
    "num_teams = euro12['Team'].nunique()\n",
    "print(num_teams)"
   ]
  },
  {
   "cell_type": "code",
   "execution_count": 10,
   "id": "901aeea9",
   "metadata": {},
   "outputs": [
    {
     "name": "stdout",
     "output_type": "stream",
     "text": [
      "35\n"
     ]
    }
   ],
   "source": [
    "# Step 6\n",
    "\n",
    "num_columns = euro12.shape[1]\n",
    "print(num_columns)\n"
   ]
  },
  {
   "cell_type": "code",
   "execution_count": 11,
   "id": "a41ed813",
   "metadata": {},
   "outputs": [
    {
     "name": "stdout",
     "output_type": "stream",
     "text": [
      "                   Team  Yellow Cards  Red Cards\n",
      "0               Croatia             9          0\n",
      "1        Czech Republic             7          0\n",
      "2               Denmark             4          0\n",
      "3               England             5          0\n",
      "4                France             6          0\n",
      "5               Germany             4          0\n",
      "6                Greece             9          1\n",
      "7                 Italy            16          0\n",
      "8           Netherlands             5          0\n",
      "9                Poland             7          1\n",
      "10             Portugal            12          0\n",
      "11  Republic of Ireland             6          1\n",
      "12               Russia             6          0\n",
      "13                Spain            11          0\n",
      "14               Sweden             7          0\n",
      "15              Ukraine             5          0\n"
     ]
    }
   ],
   "source": [
    "# Step 7\n",
    "\n",
    "discipline = euro12[['Team', 'Yellow Cards', 'Red Cards']]\n",
    "print(discipline)"
   ]
  },
  {
   "cell_type": "code",
   "execution_count": 12,
   "id": "bf2fd5c1",
   "metadata": {},
   "outputs": [
    {
     "name": "stdout",
     "output_type": "stream",
     "text": [
      "                   Team  Yellow Cards  Red Cards\n",
      "2               Denmark             4          0\n",
      "5               Germany             4          0\n",
      "3               England             5          0\n",
      "8           Netherlands             5          0\n",
      "15              Ukraine             5          0\n",
      "4                France             6          0\n",
      "12               Russia             6          0\n",
      "1        Czech Republic             7          0\n",
      "14               Sweden             7          0\n",
      "0               Croatia             9          0\n",
      "13                Spain            11          0\n",
      "10             Portugal            12          0\n",
      "7                 Italy            16          0\n",
      "11  Republic of Ireland             6          1\n",
      "9                Poland             7          1\n",
      "6                Greece             9          1\n"
     ]
    }
   ],
   "source": [
    "# Step 8\n",
    "\n",
    "sorted_discipline = discipline.sort_values(by=['Red Cards', 'Yellow Cards'])\n",
    "print(sorted_discipline)"
   ]
  },
  {
   "cell_type": "code",
   "execution_count": 13,
   "id": "a6ab433a",
   "metadata": {},
   "outputs": [
    {
     "name": "stdout",
     "output_type": "stream",
     "text": [
      "Team\n",
      "Croatia                 9.0\n",
      "Czech Republic          7.0\n",
      "Denmark                 4.0\n",
      "England                 5.0\n",
      "France                  6.0\n",
      "Germany                 4.0\n",
      "Greece                  9.0\n",
      "Italy                  16.0\n",
      "Netherlands             5.0\n",
      "Poland                  7.0\n",
      "Portugal               12.0\n",
      "Republic of Ireland     6.0\n",
      "Russia                  6.0\n",
      "Spain                  11.0\n",
      "Sweden                  7.0\n",
      "Ukraine                 5.0\n",
      "Name: Yellow Cards, dtype: float64\n"
     ]
    }
   ],
   "source": [
    "# Step 9\n",
    "\n",
    "mean_yellow_cards_per_team = euro12.groupby('Team')['Yellow Cards'].mean()\n",
    "print(mean_yellow_cards_per_team)"
   ]
  },
  {
   "cell_type": "code",
   "execution_count": 14,
   "id": "30bbff00",
   "metadata": {},
   "outputs": [
    {
     "name": "stdout",
     "output_type": "stream",
     "text": [
      "       Team  Goals  Shots on target  Shots off target Shooting Accuracy  \\\n",
      "5   Germany     10               32                32             47.8%   \n",
      "13    Spain     12               42                33             55.9%   \n",
      "\n",
      "   % Goals-to-shots  Total shots (inc. Blocked)  Hit Woodwork  Penalty goals  \\\n",
      "5             15.6%                          80             2              1   \n",
      "13            16.0%                         100             0              1   \n",
      "\n",
      "    Penalties not scored  ...  Saves made  Saves-to-shots ratio  Fouls Won  \\\n",
      "5                      0  ...          10                 62.6%         63   \n",
      "13                     0  ...          15                 93.8%        102   \n",
      "\n",
      "   Fouls Conceded  Offsides  Yellow Cards  Red Cards  Subs on  Subs off  \\\n",
      "5              49        12             4          0       15        15   \n",
      "13             83        19            11          0       17        17   \n",
      "\n",
      "    Players Used  \n",
      "5             17  \n",
      "13            18  \n",
      "\n",
      "[2 rows x 35 columns]\n"
     ]
    }
   ],
   "source": [
    "# Step 10\n",
    "\n",
    "teams_with_more_than_6_goals = euro12[euro12['Goals'] > 6]\n",
    "print(teams_with_more_than_6_goals)"
   ]
  },
  {
   "cell_type": "code",
   "execution_count": 15,
   "id": "b746d121",
   "metadata": {},
   "outputs": [
    {
     "name": "stdout",
     "output_type": "stream",
     "text": [
      "      Team  Goals  Shots on target  Shots off target Shooting Accuracy  \\\n",
      "5  Germany     10               32                32             47.8%   \n",
      "6   Greece      5                8                18             30.7%   \n",
      "\n",
      "  % Goals-to-shots  Total shots (inc. Blocked)  Hit Woodwork  Penalty goals  \\\n",
      "5            15.6%                          80             2              1   \n",
      "6            19.2%                          32             1              1   \n",
      "\n",
      "   Penalties not scored  ...  Saves made  Saves-to-shots ratio  Fouls Won  \\\n",
      "5                     0  ...          10                 62.6%         63   \n",
      "6                     1  ...          13                 65.1%         67   \n",
      "\n",
      "  Fouls Conceded  Offsides  Yellow Cards  Red Cards  Subs on  Subs off  \\\n",
      "5             49        12             4          0       15        15   \n",
      "6             48        12             9          1       12        12   \n",
      "\n",
      "   Players Used  \n",
      "5            17  \n",
      "6            20  \n",
      "\n",
      "[2 rows x 35 columns]\n"
     ]
    }
   ],
   "source": [
    "# Step 11\n",
    "\n",
    "teams_starting_with_G = euro12[euro12['Team'].str.startswith('G')]\n",
    "print(teams_starting_with_G)"
   ]
  },
  {
   "cell_type": "code",
   "execution_count": 16,
   "id": "75b91061",
   "metadata": {},
   "outputs": [
    {
     "name": "stdout",
     "output_type": "stream",
     "text": [
      "                   Team  Goals  Shots on target  Shots off target  \\\n",
      "0               Croatia      4               13                12   \n",
      "1        Czech Republic      4               13                18   \n",
      "2               Denmark      4               10                10   \n",
      "3               England      5               11                18   \n",
      "4                France      3               22                24   \n",
      "5               Germany     10               32                32   \n",
      "6                Greece      5                8                18   \n",
      "7                 Italy      6               34                45   \n",
      "8           Netherlands      2               12                36   \n",
      "9                Poland      2               15                23   \n",
      "10             Portugal      6               22                42   \n",
      "11  Republic of Ireland      1                7                12   \n",
      "12               Russia      5                9                31   \n",
      "13                Spain     12               42                33   \n",
      "14               Sweden      5               17                19   \n",
      "15              Ukraine      2                7                26   \n",
      "\n",
      "   Shooting Accuracy % Goals-to-shots  Total shots (inc. Blocked)  \n",
      "0              51.9%            16.0%                          32  \n",
      "1              41.9%            12.9%                          39  \n",
      "2              50.0%            20.0%                          27  \n",
      "3              50.0%            17.2%                          40  \n",
      "4              37.9%             6.5%                          65  \n",
      "5              47.8%            15.6%                          80  \n",
      "6              30.7%            19.2%                          32  \n",
      "7              43.0%             7.5%                         110  \n",
      "8              25.0%             4.1%                          60  \n",
      "9              39.4%             5.2%                          48  \n",
      "10             34.3%             9.3%                          82  \n",
      "11             36.8%             5.2%                          28  \n",
      "12             22.5%            12.5%                          59  \n",
      "13             55.9%            16.0%                         100  \n",
      "14             47.2%            13.8%                          39  \n",
      "15             21.2%             6.0%                          38  \n"
     ]
    }
   ],
   "source": [
    "# Step 12\n",
    "\n",
    "first_7_columns = euro12.iloc[:, :7]\n",
    "print(first_7_columns)"
   ]
  },
  {
   "cell_type": "code",
   "execution_count": 17,
   "id": "e654fd54",
   "metadata": {},
   "outputs": [
    {
     "name": "stdout",
     "output_type": "stream",
     "text": [
      "                   Team  Goals  Shots on target  Shots off target  \\\n",
      "0               Croatia      4               13                12   \n",
      "1        Czech Republic      4               13                18   \n",
      "2               Denmark      4               10                10   \n",
      "3               England      5               11                18   \n",
      "4                France      3               22                24   \n",
      "5               Germany     10               32                32   \n",
      "6                Greece      5                8                18   \n",
      "7                 Italy      6               34                45   \n",
      "8           Netherlands      2               12                36   \n",
      "9                Poland      2               15                23   \n",
      "10             Portugal      6               22                42   \n",
      "11  Republic of Ireland      1                7                12   \n",
      "12               Russia      5                9                31   \n",
      "13                Spain     12               42                33   \n",
      "14               Sweden      5               17                19   \n",
      "15              Ukraine      2                7                26   \n",
      "\n",
      "   Shooting Accuracy % Goals-to-shots  Total shots (inc. Blocked)  \\\n",
      "0              51.9%            16.0%                          32   \n",
      "1              41.9%            12.9%                          39   \n",
      "2              50.0%            20.0%                          27   \n",
      "3              50.0%            17.2%                          40   \n",
      "4              37.9%             6.5%                          65   \n",
      "5              47.8%            15.6%                          80   \n",
      "6              30.7%            19.2%                          32   \n",
      "7              43.0%             7.5%                         110   \n",
      "8              25.0%             4.1%                          60   \n",
      "9              39.4%             5.2%                          48   \n",
      "10             34.3%             9.3%                          82   \n",
      "11             36.8%             5.2%                          28   \n",
      "12             22.5%            12.5%                          59   \n",
      "13             55.9%            16.0%                         100   \n",
      "14             47.2%            13.8%                          39   \n",
      "15             21.2%             6.0%                          38   \n",
      "\n",
      "    Hit Woodwork  Penalty goals  Penalties not scored  ...  Clean Sheets  \\\n",
      "0              0              0                     0  ...             0   \n",
      "1              0              0                     0  ...             1   \n",
      "2              1              0                     0  ...             1   \n",
      "3              0              0                     0  ...             2   \n",
      "4              1              0                     0  ...             1   \n",
      "5              2              1                     0  ...             1   \n",
      "6              1              1                     1  ...             1   \n",
      "7              2              0                     0  ...             2   \n",
      "8              2              0                     0  ...             0   \n",
      "9              0              0                     0  ...             0   \n",
      "10             6              0                     0  ...             2   \n",
      "11             0              0                     0  ...             0   \n",
      "12             2              0                     0  ...             0   \n",
      "13             0              1                     0  ...             5   \n",
      "14             3              0                     0  ...             1   \n",
      "15             0              0                     0  ...             0   \n",
      "\n",
      "    Blocks  Goals conceded Saves made  Saves-to-shots ratio  Fouls Won  \\\n",
      "0       10               3         13                 81.3%         41   \n",
      "1       10               6          9                 60.1%         53   \n",
      "2       10               5         10                 66.7%         25   \n",
      "3       29               3         22                 88.1%         43   \n",
      "4        7               5          6                 54.6%         36   \n",
      "5       11               6         10                 62.6%         63   \n",
      "6       23               7         13                 65.1%         67   \n",
      "7       18               7         20                 74.1%        101   \n",
      "8        9               5         12                 70.6%         35   \n",
      "9        8               3          6                 66.7%         48   \n",
      "10      11               4         10                 71.5%         73   \n",
      "11      23               9         17                 65.4%         43   \n",
      "12       8               3         10                 77.0%         34   \n",
      "13       8               1         15                 93.8%        102   \n",
      "14      12               5          8                 61.6%         35   \n",
      "15       4               4         13                 76.5%         48   \n",
      "\n",
      "    Fouls Conceded  Offsides  Yellow Cards  Red Cards  \n",
      "0               62         2             9          0  \n",
      "1               73         8             7          0  \n",
      "2               38         8             4          0  \n",
      "3               45         6             5          0  \n",
      "4               51         5             6          0  \n",
      "5               49        12             4          0  \n",
      "6               48        12             9          1  \n",
      "7               89        16            16          0  \n",
      "8               30         3             5          0  \n",
      "9               56         3             7          1  \n",
      "10              90        10            12          0  \n",
      "11              51        11             6          1  \n",
      "12              43         4             6          0  \n",
      "13              83        19            11          0  \n",
      "14              51         7             7          0  \n",
      "15              31         4             5          0  \n",
      "\n",
      "[16 rows x 32 columns]\n"
     ]
    }
   ],
   "source": [
    "# Step 13\n",
    "\n",
    "columns_except_last_3 = euro12.iloc[:, :-3]\n",
    "print(columns_except_last_3)"
   ]
  },
  {
   "cell_type": "code",
   "execution_count": 18,
   "id": "b8f9d6ed",
   "metadata": {},
   "outputs": [
    {
     "name": "stdout",
     "output_type": "stream",
     "text": [
      "3     50.0%\n",
      "7     43.0%\n",
      "12    22.5%\n",
      "Name: Shooting Accuracy, dtype: object\n"
     ]
    }
   ],
   "source": [
    "# Step 14\n",
    "\n",
    "shooting_accuracy = euro12.loc[euro12['Team'].isin(['England', 'Italy', 'Russia']), 'Shooting Accuracy']\n",
    "print(shooting_accuracy)"
   ]
  },
  {
   "cell_type": "markdown",
   "id": "540eda0d",
   "metadata": {},
   "source": [
    "# Question 3\n",
    "Housing\n",
    "<ol>\n",
    "    <li>Import the necessary libraries</li>\n",
    "    <li>Create 3 differents Series, each of length 100, as follows:\n",
    "        <ul>\n",
    "            <li>The first a random number from 1 to 4</li>\n",
    "            <li>The second a random number from 1 to 3</li>\n",
    "            <li>The third a random number from 10,000 to 30,000</li>\n",
    "        </ul>    \n",
    "    </li>\n",
    "    <li>Create a DataFrame by joinning the Series by column</li>\n",
    "    <li>Change the name of the columns to bedrs, bathrs, price_sqr_meter</li>\n",
    "    <li> Create a one column DataFrame with the values of the 3 Series and assign it to 'bigcolumn'</li>\n",
    "    <li> Ops it seems it is going only until index 99. Is it true?</li>\n",
    "    <li>Reindex the DataFrame so it goes from 0 to 299 </li>\n",
    "</ol>    "
   ]
  },
  {
   "cell_type": "code",
   "execution_count": 20,
   "id": "08596884",
   "metadata": {},
   "outputs": [
    {
     "name": "stdout",
     "output_type": "stream",
     "text": [
      "0     3\n",
      "1     4\n",
      "2     1\n",
      "3     3\n",
      "4     3\n",
      "     ..\n",
      "95    2\n",
      "96    2\n",
      "97    4\n",
      "98    2\n",
      "99    1\n",
      "Length: 100, dtype: int32 0     3\n",
      "1     2\n",
      "2     2\n",
      "3     2\n",
      "4     2\n",
      "     ..\n",
      "95    1\n",
      "96    2\n",
      "97    1\n",
      "98    1\n",
      "99    2\n",
      "Length: 100, dtype: int32 0     23931\n",
      "1     13627\n",
      "2     26157\n",
      "3     20173\n",
      "4     28047\n",
      "      ...  \n",
      "95    11154\n",
      "96    14499\n",
      "97    16295\n",
      "98    22183\n",
      "99    22874\n",
      "Length: 100, dtype: int32\n"
     ]
    }
   ],
   "source": [
    "# Step 1\n",
    "\n",
    "import pandas as pd\n",
    "import numpy as np\n",
    "\n",
    "# Step 2\n",
    "\n",
    "np.random.seed(42)\n",
    "\n",
    "series1 = pd.Series(np.random.randint(1, 5, size=100))\n",
    "series2 = pd.Series(np.random.randint(1, 4, size=100))\n",
    "series3 = pd.Series(np.random.randint(10000, 30001, size=100))\n",
    "\n",
    "print(series1, series2, series3)"
   ]
  },
  {
   "cell_type": "code",
   "execution_count": 21,
   "id": "07108cce",
   "metadata": {},
   "outputs": [
    {
     "data": {
      "text/html": [
       "<div>\n",
       "<style scoped>\n",
       "    .dataframe tbody tr th:only-of-type {\n",
       "        vertical-align: middle;\n",
       "    }\n",
       "\n",
       "    .dataframe tbody tr th {\n",
       "        vertical-align: top;\n",
       "    }\n",
       "\n",
       "    .dataframe thead th {\n",
       "        text-align: right;\n",
       "    }\n",
       "</style>\n",
       "<table border=\"1\" class=\"dataframe\">\n",
       "  <thead>\n",
       "    <tr style=\"text-align: right;\">\n",
       "      <th></th>\n",
       "      <th>0</th>\n",
       "      <th>1</th>\n",
       "      <th>2</th>\n",
       "    </tr>\n",
       "  </thead>\n",
       "  <tbody>\n",
       "    <tr>\n",
       "      <th>0</th>\n",
       "      <td>3</td>\n",
       "      <td>3</td>\n",
       "      <td>23931</td>\n",
       "    </tr>\n",
       "    <tr>\n",
       "      <th>1</th>\n",
       "      <td>4</td>\n",
       "      <td>2</td>\n",
       "      <td>13627</td>\n",
       "    </tr>\n",
       "    <tr>\n",
       "      <th>2</th>\n",
       "      <td>1</td>\n",
       "      <td>2</td>\n",
       "      <td>26157</td>\n",
       "    </tr>\n",
       "    <tr>\n",
       "      <th>3</th>\n",
       "      <td>3</td>\n",
       "      <td>2</td>\n",
       "      <td>20173</td>\n",
       "    </tr>\n",
       "    <tr>\n",
       "      <th>4</th>\n",
       "      <td>3</td>\n",
       "      <td>2</td>\n",
       "      <td>28047</td>\n",
       "    </tr>\n",
       "  </tbody>\n",
       "</table>\n",
       "</div>"
      ],
      "text/plain": [
       "   0  1      2\n",
       "0  3  3  23931\n",
       "1  4  2  13627\n",
       "2  1  2  26157\n",
       "3  3  2  20173\n",
       "4  3  2  28047"
      ]
     },
     "execution_count": 21,
     "metadata": {},
     "output_type": "execute_result"
    }
   ],
   "source": [
    "# Step 3\n",
    "\n",
    "df = pd.concat([series1, series2, series3], axis=1)\n",
    "df.head()"
   ]
  },
  {
   "cell_type": "code",
   "execution_count": 22,
   "id": "bf085d88",
   "metadata": {},
   "outputs": [
    {
     "data": {
      "text/html": [
       "<div>\n",
       "<style scoped>\n",
       "    .dataframe tbody tr th:only-of-type {\n",
       "        vertical-align: middle;\n",
       "    }\n",
       "\n",
       "    .dataframe tbody tr th {\n",
       "        vertical-align: top;\n",
       "    }\n",
       "\n",
       "    .dataframe thead th {\n",
       "        text-align: right;\n",
       "    }\n",
       "</style>\n",
       "<table border=\"1\" class=\"dataframe\">\n",
       "  <thead>\n",
       "    <tr style=\"text-align: right;\">\n",
       "      <th></th>\n",
       "      <th>bedrs</th>\n",
       "      <th>bathrs</th>\n",
       "      <th>price_sqr_meter</th>\n",
       "    </tr>\n",
       "  </thead>\n",
       "  <tbody>\n",
       "    <tr>\n",
       "      <th>0</th>\n",
       "      <td>3</td>\n",
       "      <td>3</td>\n",
       "      <td>23931</td>\n",
       "    </tr>\n",
       "    <tr>\n",
       "      <th>1</th>\n",
       "      <td>4</td>\n",
       "      <td>2</td>\n",
       "      <td>13627</td>\n",
       "    </tr>\n",
       "    <tr>\n",
       "      <th>2</th>\n",
       "      <td>1</td>\n",
       "      <td>2</td>\n",
       "      <td>26157</td>\n",
       "    </tr>\n",
       "    <tr>\n",
       "      <th>3</th>\n",
       "      <td>3</td>\n",
       "      <td>2</td>\n",
       "      <td>20173</td>\n",
       "    </tr>\n",
       "    <tr>\n",
       "      <th>4</th>\n",
       "      <td>3</td>\n",
       "      <td>2</td>\n",
       "      <td>28047</td>\n",
       "    </tr>\n",
       "  </tbody>\n",
       "</table>\n",
       "</div>"
      ],
      "text/plain": [
       "   bedrs  bathrs  price_sqr_meter\n",
       "0      3       3            23931\n",
       "1      4       2            13627\n",
       "2      1       2            26157\n",
       "3      3       2            20173\n",
       "4      3       2            28047"
      ]
     },
     "execution_count": 22,
     "metadata": {},
     "output_type": "execute_result"
    }
   ],
   "source": [
    "# Step 4\n",
    "\n",
    "df.columns = ['bedrs', 'bathrs', 'price_sqr_meter']\n",
    "df.head()"
   ]
  },
  {
   "cell_type": "code",
   "execution_count": 27,
   "id": "886273bb",
   "metadata": {},
   "outputs": [],
   "source": [
    "# Step 5\n",
    "bigcolumn = pd.concat([series1, series2, series3], ignore_index=True)"
   ]
  },
  {
   "cell_type": "code",
   "execution_count": 28,
   "id": "d08267da",
   "metadata": {},
   "outputs": [
    {
     "name": "stdout",
     "output_type": "stream",
     "text": [
      "299\n"
     ]
    }
   ],
   "source": [
    "# Step 6\n",
    "print(bigcolumn.index.max())"
   ]
  },
  {
   "cell_type": "code",
   "execution_count": 31,
   "id": "521a6830",
   "metadata": {},
   "outputs": [
    {
     "data": {
      "text/plain": [
       "0          3\n",
       "1          4\n",
       "2          1\n",
       "3          3\n",
       "4          3\n",
       "       ...  \n",
       "295    11154\n",
       "296    14499\n",
       "297    16295\n",
       "298    22183\n",
       "299    22874\n",
       "Length: 300, dtype: int32"
      ]
     },
     "execution_count": 31,
     "metadata": {},
     "output_type": "execute_result"
    }
   ],
   "source": [
    "# Step 7\n",
    "\n",
    "bigcolumn.reset_index(drop=True, inplace=True)\n",
    "bigcolumn"
   ]
  },
  {
   "cell_type": "markdown",
   "id": "ad90e068",
   "metadata": {},
   "source": [
    "# Question 4\n",
    "Wind Statistics\n",
    "<br>\n",
    "The data have been modified to contain some missing values, identified by NaN.\n",
    "Using pandas should make this exercise easier, in particular for the bonus question.\n",
    "\n",
    "You should be able to perform all of these operations without using a for loop or\n",
    "other looping construct.\n",
    "<br>\n",
    "Yr Mo Dy RPT VAL ROS KIL SHA BIR DUB CLA MUL CLO BEL\n",
    "MAL\n",
    "<br>\n",
    "61 1 1 15.04 14.96 13.17 9.29 NaN 9.87 13.67 10.25 10.83 12.58 18.50 15.04 <br>\n",
    "61 1 2 14.71 NaN 10.83 6.50 12.62 7.67 11.50 10.04 9.79 9.67 17.54 13.83 <br>\n",
    "61 1 3 18.50 16.88 12.33 10.13 11.17 6.17 11.25 NaN 8.50 7.67 12.75 12.71 \n",
    "<br>\n",
    "The first three columns are year, month, and day. The remaining 12 columns are\n",
    "average windspeeds in knots at 12 locations in Ireland on that day.\n",
    "<ol>\n",
    "    <li>Import the necessary libraries</li>\n",
    "    <li>Import the dataset from the attached file wind.txt</li>\n",
    "    <li>Assign it to a variable called data and replace the first 3 columns by a proper datetime index.</li>\n",
    "    <li>Year 2061? Do we really have data from this year? Create a function to fix it and apply it.</li>\n",
    "    <li>Set the right dates as the index. Pay attention at the data type, it should be datetime64[ns].</li>\n",
    "    <li>Compute how many values are missing for each location over the entire record.They should be ignored in all calculations below.</li>\n",
    "    <li>Compute how many non-missing values there are in total.</li>\n",
    "    <li>Calculate the mean windspeeds of the windspeeds over all the locations and all the times.\n",
    "    <br> A single number for the entire dataset</li>\n",
    "    <li>Create a DataFrame called loc_stats and calculate the min, max and mean windspeeds and standard deviations of the windspeeds at each location over all the days <br> A different set of numbers for each location.</li>\n",
    "    <li>Create a DataFrame called day_stats and calculate the min, max and mean windspeed and standard deviations of the windspeeds across all the locations at each day.<br> A different set of numbers for each day</li>\n",
    "    <li>Find the average windspeed in January for each location.Treat January 1961 and January 1962 both as January.</li>\n",
    "    <li>Downsample the record to a yearly frequency for each location</li>\n",
    "    <li>Downsample the record to a monthly frequency for each location</li>\n",
    "    <li>Downsample the record to a weekly frequency for each location.</li>\n",
    "    <li>Calculate the min, max and mean windspeeds and standard deviations of the windspeeds across all locations for each week (assume that the first week starts on January 2 1961) for the first 52 weeks</li>\n",
    "</ol>\n"
   ]
  },
  {
   "cell_type": "code",
   "execution_count": 42,
   "id": "6048b762",
   "metadata": {},
   "outputs": [
    {
     "data": {
      "text/html": [
       "<div>\n",
       "<style scoped>\n",
       "    .dataframe tbody tr th:only-of-type {\n",
       "        vertical-align: middle;\n",
       "    }\n",
       "\n",
       "    .dataframe tbody tr th {\n",
       "        vertical-align: top;\n",
       "    }\n",
       "\n",
       "    .dataframe thead th {\n",
       "        text-align: right;\n",
       "    }\n",
       "</style>\n",
       "<table border=\"1\" class=\"dataframe\">\n",
       "  <thead>\n",
       "    <tr style=\"text-align: right;\">\n",
       "      <th></th>\n",
       "      <th>Yr</th>\n",
       "      <th>Mo</th>\n",
       "      <th>Dy</th>\n",
       "      <th>RPT</th>\n",
       "      <th>VAL</th>\n",
       "      <th>ROS</th>\n",
       "      <th>KIL</th>\n",
       "      <th>SHA</th>\n",
       "      <th>BIR</th>\n",
       "      <th>DUB</th>\n",
       "      <th>CLA</th>\n",
       "      <th>MUL</th>\n",
       "      <th>CLO</th>\n",
       "      <th>BEL</th>\n",
       "      <th>MAL</th>\n",
       "    </tr>\n",
       "  </thead>\n",
       "  <tbody>\n",
       "    <tr>\n",
       "      <th>0</th>\n",
       "      <td>61</td>\n",
       "      <td>1</td>\n",
       "      <td>1</td>\n",
       "      <td>15.04</td>\n",
       "      <td>14.96</td>\n",
       "      <td>13.17</td>\n",
       "      <td>9.29</td>\n",
       "      <td>NaN</td>\n",
       "      <td>9.87</td>\n",
       "      <td>13.67</td>\n",
       "      <td>10.25</td>\n",
       "      <td>10.83</td>\n",
       "      <td>12.58</td>\n",
       "      <td>18.50</td>\n",
       "      <td>15.04</td>\n",
       "    </tr>\n",
       "    <tr>\n",
       "      <th>1</th>\n",
       "      <td>61</td>\n",
       "      <td>1</td>\n",
       "      <td>2</td>\n",
       "      <td>14.71</td>\n",
       "      <td>NaN</td>\n",
       "      <td>10.83</td>\n",
       "      <td>6.50</td>\n",
       "      <td>12.62</td>\n",
       "      <td>7.67</td>\n",
       "      <td>11.50</td>\n",
       "      <td>10.04</td>\n",
       "      <td>9.79</td>\n",
       "      <td>9.67</td>\n",
       "      <td>17.54</td>\n",
       "      <td>13.83</td>\n",
       "    </tr>\n",
       "    <tr>\n",
       "      <th>2</th>\n",
       "      <td>61</td>\n",
       "      <td>1</td>\n",
       "      <td>3</td>\n",
       "      <td>18.50</td>\n",
       "      <td>16.88</td>\n",
       "      <td>12.33</td>\n",
       "      <td>10.13</td>\n",
       "      <td>11.17</td>\n",
       "      <td>6.17</td>\n",
       "      <td>11.25</td>\n",
       "      <td>NaN</td>\n",
       "      <td>8.50</td>\n",
       "      <td>7.67</td>\n",
       "      <td>12.75</td>\n",
       "      <td>12.71</td>\n",
       "    </tr>\n",
       "    <tr>\n",
       "      <th>3</th>\n",
       "      <td>61</td>\n",
       "      <td>1</td>\n",
       "      <td>4</td>\n",
       "      <td>10.58</td>\n",
       "      <td>6.63</td>\n",
       "      <td>11.75</td>\n",
       "      <td>4.58</td>\n",
       "      <td>4.54</td>\n",
       "      <td>2.88</td>\n",
       "      <td>8.63</td>\n",
       "      <td>1.79</td>\n",
       "      <td>5.83</td>\n",
       "      <td>5.88</td>\n",
       "      <td>5.46</td>\n",
       "      <td>10.88</td>\n",
       "    </tr>\n",
       "    <tr>\n",
       "      <th>4</th>\n",
       "      <td>61</td>\n",
       "      <td>1</td>\n",
       "      <td>5</td>\n",
       "      <td>13.33</td>\n",
       "      <td>13.25</td>\n",
       "      <td>11.42</td>\n",
       "      <td>6.17</td>\n",
       "      <td>10.71</td>\n",
       "      <td>8.21</td>\n",
       "      <td>11.92</td>\n",
       "      <td>6.54</td>\n",
       "      <td>10.92</td>\n",
       "      <td>10.34</td>\n",
       "      <td>12.92</td>\n",
       "      <td>11.83</td>\n",
       "    </tr>\n",
       "  </tbody>\n",
       "</table>\n",
       "</div>"
      ],
      "text/plain": [
       "   Yr  Mo  Dy    RPT    VAL    ROS    KIL    SHA   BIR    DUB    CLA    MUL  \\\n",
       "0  61   1   1  15.04  14.96  13.17   9.29    NaN  9.87  13.67  10.25  10.83   \n",
       "1  61   1   2  14.71    NaN  10.83   6.50  12.62  7.67  11.50  10.04   9.79   \n",
       "2  61   1   3  18.50  16.88  12.33  10.13  11.17  6.17  11.25    NaN   8.50   \n",
       "3  61   1   4  10.58   6.63  11.75   4.58   4.54  2.88   8.63   1.79   5.83   \n",
       "4  61   1   5  13.33  13.25  11.42   6.17  10.71  8.21  11.92   6.54  10.92   \n",
       "\n",
       "     CLO    BEL    MAL  \n",
       "0  12.58  18.50  15.04  \n",
       "1   9.67  17.54  13.83  \n",
       "2   7.67  12.75  12.71  \n",
       "3   5.88   5.46  10.88  \n",
       "4  10.34  12.92  11.83  "
      ]
     },
     "execution_count": 42,
     "metadata": {},
     "output_type": "execute_result"
    }
   ],
   "source": [
    "#Step 1 and Step 2\n",
    "\n",
    "import pandas as pd\n",
    "\n",
    "\n",
    "data = pd.read_csv(\"wind.txt\", sep=\"\\s+\")\n",
    "data.head()\n"
   ]
  },
  {
   "cell_type": "code",
   "execution_count": 1,
   "id": "e9e5b555",
   "metadata": {},
   "outputs": [
    {
     "ename": "NameError",
     "evalue": "name 'pd' is not defined",
     "output_type": "error",
     "traceback": [
      "\u001b[1;31m---------------------------------------------------------------------------\u001b[0m",
      "\u001b[1;31mNameError\u001b[0m                                 Traceback (most recent call last)",
      "Cell \u001b[1;32mIn[1], line 3\u001b[0m\n\u001b[0;32m      1\u001b[0m \u001b[38;5;66;03m# Step 3\u001b[39;00m\n\u001b[1;32m----> 3\u001b[0m data[\u001b[38;5;124m'\u001b[39m\u001b[38;5;124mdate\u001b[39m\u001b[38;5;124m'\u001b[39m] \u001b[38;5;241m=\u001b[39m \u001b[43mpd\u001b[49m\u001b[38;5;241m.\u001b[39mto_datetime(data[[\u001b[38;5;124m'\u001b[39m\u001b[38;5;124mYr\u001b[39m\u001b[38;5;124m'\u001b[39m, \u001b[38;5;124m'\u001b[39m\u001b[38;5;124mMo\u001b[39m\u001b[38;5;124m'\u001b[39m, \u001b[38;5;124m'\u001b[39m\u001b[38;5;124mDy\u001b[39m\u001b[38;5;124m'\u001b[39m]]\u001b[38;5;241m.\u001b[39mrename(columns\u001b[38;5;241m=\u001b[39m{\u001b[38;5;124m'\u001b[39m\u001b[38;5;124mYr\u001b[39m\u001b[38;5;124m'\u001b[39m: \u001b[38;5;124m'\u001b[39m\u001b[38;5;124myear\u001b[39m\u001b[38;5;124m'\u001b[39m, \u001b[38;5;124m'\u001b[39m\u001b[38;5;124mMo\u001b[39m\u001b[38;5;124m'\u001b[39m: \u001b[38;5;124m'\u001b[39m\u001b[38;5;124mmonth\u001b[39m\u001b[38;5;124m'\u001b[39m, \u001b[38;5;124m'\u001b[39m\u001b[38;5;124mDy\u001b[39m\u001b[38;5;124m'\u001b[39m: \u001b[38;5;124m'\u001b[39m\u001b[38;5;124mday\u001b[39m\u001b[38;5;124m'\u001b[39m}))\n\u001b[0;32m      4\u001b[0m data \u001b[38;5;241m=\u001b[39m data\u001b[38;5;241m.\u001b[39mset_index(\u001b[38;5;124m'\u001b[39m\u001b[38;5;124mdate\u001b[39m\u001b[38;5;124m'\u001b[39m)\n\u001b[0;32m      5\u001b[0m data \u001b[38;5;241m=\u001b[39m data\u001b[38;5;241m.\u001b[39mdrop(columns\u001b[38;5;241m=\u001b[39m[\u001b[38;5;124m'\u001b[39m\u001b[38;5;124mYr\u001b[39m\u001b[38;5;124m'\u001b[39m, \u001b[38;5;124m'\u001b[39m\u001b[38;5;124mMo\u001b[39m\u001b[38;5;124m'\u001b[39m, \u001b[38;5;124m'\u001b[39m\u001b[38;5;124mDy\u001b[39m\u001b[38;5;124m'\u001b[39m])\n",
      "\u001b[1;31mNameError\u001b[0m: name 'pd' is not defined"
     ]
    }
   ],
   "source": [
    "# Step 3\n",
    "\n",
    "data['date'] = pd.to_datetime(data[['Yr', 'Mo', 'Dy']].rename(columns={'Yr': 'year', 'Mo': 'month', 'Dy': 'day'}))\n",
    "data = data.set_index('date')\n",
    "data = data.drop(columns=['Yr', 'Mo', 'Dy'])\n",
    "print(data)\n"
   ]
  },
  {
   "cell_type": "code",
   "execution_count": 46,
   "id": "4c179247",
   "metadata": {},
   "outputs": [
    {
     "name": "stdout",
     "output_type": "stream",
     "text": [
      "0       1961\n",
      "1       1961\n",
      "2       1961\n",
      "3       1961\n",
      "4       1961\n",
      "        ... \n",
      "6569    1978\n",
      "6570    1978\n",
      "6571    1978\n",
      "6572    1978\n",
      "6573    1978\n",
      "Name: Yr, Length: 6574, dtype: int64\n"
     ]
    }
   ],
   "source": [
    "# step 4\n",
    "def fix_year(year):\n",
    "    if year >= 99:\n",
    "        return year + 2000\n",
    "    else:\n",
    "        return year + 1900\n",
    "data['Yr'] = data['Yr'].apply(fix_year)\n",
    "print(data['Yr'])\n"
   ]
  },
  {
   "cell_type": "code",
   "execution_count": 49,
   "id": "3526c02c",
   "metadata": {},
   "outputs": [
    {
     "name": "stdout",
     "output_type": "stream",
     "text": [
      "              RPT    VAL    ROS    KIL    SHA    BIR    DUB    CLA    MUL  \\\n",
      "date                                                                        \n",
      "1961-01-01  15.04  14.96  13.17   9.29    NaN   9.87  13.67  10.25  10.83   \n",
      "1961-01-02  14.71    NaN  10.83   6.50  12.62   7.67  11.50  10.04   9.79   \n",
      "1961-01-03  18.50  16.88  12.33  10.13  11.17   6.17  11.25    NaN   8.50   \n",
      "1961-01-04  10.58   6.63  11.75   4.58   4.54   2.88   8.63   1.79   5.83   \n",
      "1961-01-05  13.33  13.25  11.42   6.17  10.71   8.21  11.92   6.54  10.92   \n",
      "...           ...    ...    ...    ...    ...    ...    ...    ...    ...   \n",
      "1978-12-27  17.58  16.96  17.62   8.08  13.21  11.67  14.46  15.59  14.04   \n",
      "1978-12-28  13.21   5.46  13.46   5.00   8.12   9.42  14.33  16.25  15.25   \n",
      "1978-12-29  14.00  10.29  14.42   8.71   9.71  10.54  19.17  12.46  14.50   \n",
      "1978-12-30  18.50  14.04  21.29   9.13  12.75   9.71  18.08  12.87  12.46   \n",
      "1978-12-31  20.33  17.41  27.29   9.59  12.08  10.13  19.25  11.63  11.58   \n",
      "\n",
      "              CLO    BEL    MAL  \n",
      "date                             \n",
      "1961-01-01  12.58  18.50  15.04  \n",
      "1961-01-02   9.67  17.54  13.83  \n",
      "1961-01-03   7.67  12.75  12.71  \n",
      "1961-01-04   5.88   5.46  10.88  \n",
      "1961-01-05  10.34  12.92  11.83  \n",
      "...           ...    ...    ...  \n",
      "1978-12-27  14.00  17.21  40.08  \n",
      "1978-12-28  18.05  21.79  41.46  \n",
      "1978-12-29  16.42  18.88  29.58  \n",
      "1978-12-30  12.12  14.67  28.79  \n",
      "1978-12-31  11.38  12.08  22.08  \n",
      "\n",
      "[6574 rows x 12 columns]\n"
     ]
    }
   ],
   "source": [
    "# step 5\n",
    "\n",
    "data['date'] = pd.to_datetime(data[['Yr', 'Mo', 'Dy']].rename(columns={'Yr': 'year', 'Mo': 'month', 'Dy': 'day'}))\n",
    "data = data.set_index('date')\n",
    "data = data.drop(columns=['Yr', 'Mo', 'Dy'])\n",
    "print(data)\n"
   ]
  },
  {
   "cell_type": "code",
   "execution_count": 50,
   "id": "2bbdbe9f",
   "metadata": {},
   "outputs": [
    {
     "name": "stdout",
     "output_type": "stream",
     "text": [
      "RPT    6\n",
      "VAL    3\n",
      "ROS    2\n",
      "KIL    5\n",
      "SHA    2\n",
      "BIR    0\n",
      "DUB    3\n",
      "CLA    2\n",
      "MUL    3\n",
      "CLO    1\n",
      "BEL    0\n",
      "MAL    4\n",
      "dtype: int64\n"
     ]
    }
   ],
   "source": [
    "# step 6\n",
    "missing_values = data.isnull().sum()\n",
    "print(missing_values)"
   ]
  },
  {
   "cell_type": "code",
   "execution_count": 51,
   "id": "13071acd",
   "metadata": {},
   "outputs": [
    {
     "name": "stdout",
     "output_type": "stream",
     "text": [
      "78857\n"
     ]
    }
   ],
   "source": [
    "# step 7\n",
    "\n",
    "non_missing_values = data.notnull().sum().sum()\n",
    "print(non_missing_values)"
   ]
  },
  {
   "cell_type": "code",
   "execution_count": 53,
   "id": "b1d55be9",
   "metadata": {},
   "outputs": [
    {
     "name": "stdout",
     "output_type": "stream",
     "text": [
      "10.227982360836938\n"
     ]
    }
   ],
   "source": [
    "# step 8\n",
    "\n",
    "mean_windspeed = data.mean().mean()\n",
    "print(mean_windspeed)"
   ]
  },
  {
   "cell_type": "code",
   "execution_count": 54,
   "id": "8bffb634",
   "metadata": {},
   "outputs": [
    {
     "data": {
      "text/html": [
       "<div>\n",
       "<style scoped>\n",
       "    .dataframe tbody tr th:only-of-type {\n",
       "        vertical-align: middle;\n",
       "    }\n",
       "\n",
       "    .dataframe tbody tr th {\n",
       "        vertical-align: top;\n",
       "    }\n",
       "\n",
       "    .dataframe thead th {\n",
       "        text-align: right;\n",
       "    }\n",
       "</style>\n",
       "<table border=\"1\" class=\"dataframe\">\n",
       "  <thead>\n",
       "    <tr style=\"text-align: right;\">\n",
       "      <th></th>\n",
       "      <th>min</th>\n",
       "      <th>max</th>\n",
       "      <th>mean</th>\n",
       "      <th>std</th>\n",
       "    </tr>\n",
       "  </thead>\n",
       "  <tbody>\n",
       "    <tr>\n",
       "      <th>RPT</th>\n",
       "      <td>0.67</td>\n",
       "      <td>35.80</td>\n",
       "      <td>12.362987</td>\n",
       "      <td>5.618413</td>\n",
       "    </tr>\n",
       "    <tr>\n",
       "      <th>VAL</th>\n",
       "      <td>0.21</td>\n",
       "      <td>33.37</td>\n",
       "      <td>10.644314</td>\n",
       "      <td>5.267356</td>\n",
       "    </tr>\n",
       "    <tr>\n",
       "      <th>ROS</th>\n",
       "      <td>1.50</td>\n",
       "      <td>33.84</td>\n",
       "      <td>11.660526</td>\n",
       "      <td>5.008450</td>\n",
       "    </tr>\n",
       "    <tr>\n",
       "      <th>KIL</th>\n",
       "      <td>0.00</td>\n",
       "      <td>28.46</td>\n",
       "      <td>6.306468</td>\n",
       "      <td>3.605811</td>\n",
       "    </tr>\n",
       "    <tr>\n",
       "      <th>SHA</th>\n",
       "      <td>0.13</td>\n",
       "      <td>37.54</td>\n",
       "      <td>10.455834</td>\n",
       "      <td>4.936125</td>\n",
       "    </tr>\n",
       "  </tbody>\n",
       "</table>\n",
       "</div>"
      ],
      "text/plain": [
       "      min    max       mean       std\n",
       "RPT  0.67  35.80  12.362987  5.618413\n",
       "VAL  0.21  33.37  10.644314  5.267356\n",
       "ROS  1.50  33.84  11.660526  5.008450\n",
       "KIL  0.00  28.46   6.306468  3.605811\n",
       "SHA  0.13  37.54  10.455834  4.936125"
      ]
     },
     "execution_count": 54,
     "metadata": {},
     "output_type": "execute_result"
    }
   ],
   "source": [
    "# step 9\n",
    "\n",
    "loc_stats = pd.DataFrame({\n",
    "    'min': data.min(),\n",
    "    'max': data.max(),\n",
    "    'mean': data.mean(),\n",
    "    'std': data.std()\n",
    "})\n",
    "loc_stats.head()"
   ]
  },
  {
   "cell_type": "code",
   "execution_count": 55,
   "id": "250ac55c",
   "metadata": {},
   "outputs": [
    {
     "data": {
      "text/html": [
       "<div>\n",
       "<style scoped>\n",
       "    .dataframe tbody tr th:only-of-type {\n",
       "        vertical-align: middle;\n",
       "    }\n",
       "\n",
       "    .dataframe tbody tr th {\n",
       "        vertical-align: top;\n",
       "    }\n",
       "\n",
       "    .dataframe thead th {\n",
       "        text-align: right;\n",
       "    }\n",
       "</style>\n",
       "<table border=\"1\" class=\"dataframe\">\n",
       "  <thead>\n",
       "    <tr style=\"text-align: right;\">\n",
       "      <th></th>\n",
       "      <th>min</th>\n",
       "      <th>max</th>\n",
       "      <th>mean</th>\n",
       "      <th>std</th>\n",
       "    </tr>\n",
       "    <tr>\n",
       "      <th>date</th>\n",
       "      <th></th>\n",
       "      <th></th>\n",
       "      <th></th>\n",
       "      <th></th>\n",
       "    </tr>\n",
       "  </thead>\n",
       "  <tbody>\n",
       "    <tr>\n",
       "      <th>1961-01-01</th>\n",
       "      <td>9.29</td>\n",
       "      <td>18.50</td>\n",
       "      <td>13.018182</td>\n",
       "      <td>2.808875</td>\n",
       "    </tr>\n",
       "    <tr>\n",
       "      <th>1961-01-02</th>\n",
       "      <td>6.50</td>\n",
       "      <td>17.54</td>\n",
       "      <td>11.336364</td>\n",
       "      <td>3.188994</td>\n",
       "    </tr>\n",
       "    <tr>\n",
       "      <th>1961-01-03</th>\n",
       "      <td>6.17</td>\n",
       "      <td>18.50</td>\n",
       "      <td>11.641818</td>\n",
       "      <td>3.681912</td>\n",
       "    </tr>\n",
       "    <tr>\n",
       "      <th>1961-01-04</th>\n",
       "      <td>1.79</td>\n",
       "      <td>11.75</td>\n",
       "      <td>6.619167</td>\n",
       "      <td>3.198126</td>\n",
       "    </tr>\n",
       "    <tr>\n",
       "      <th>1961-01-05</th>\n",
       "      <td>6.17</td>\n",
       "      <td>13.33</td>\n",
       "      <td>10.630000</td>\n",
       "      <td>2.445356</td>\n",
       "    </tr>\n",
       "  </tbody>\n",
       "</table>\n",
       "</div>"
      ],
      "text/plain": [
       "             min    max       mean       std\n",
       "date                                        \n",
       "1961-01-01  9.29  18.50  13.018182  2.808875\n",
       "1961-01-02  6.50  17.54  11.336364  3.188994\n",
       "1961-01-03  6.17  18.50  11.641818  3.681912\n",
       "1961-01-04  1.79  11.75   6.619167  3.198126\n",
       "1961-01-05  6.17  13.33  10.630000  2.445356"
      ]
     },
     "execution_count": 55,
     "metadata": {},
     "output_type": "execute_result"
    }
   ],
   "source": [
    "# step 10\n",
    "\n",
    "day_stats = pd.DataFrame({\n",
    "    'min': data.min(axis=1),\n",
    "    'max': data.max(axis=1),\n",
    "    'mean': data.mean(axis=1),\n",
    "    'std': data.std(axis=1)\n",
    "})\n",
    "day_stats.head()"
   ]
  },
  {
   "cell_type": "code",
   "execution_count": 58,
   "id": "0a7e5d16",
   "metadata": {},
   "outputs": [
    {
     "name": "stdout",
     "output_type": "stream",
     "text": [
      "RPT    14.847325\n",
      "VAL    12.914560\n",
      "ROS    13.299624\n",
      "KIL     7.199498\n",
      "SHA    11.667734\n",
      "BIR     8.054839\n",
      "DUB    11.819355\n",
      "CLA     9.512047\n",
      "MUL     9.543208\n",
      "CLO    10.053566\n",
      "BEL    14.550520\n",
      "MAL    18.028763\n",
      "dtype: float64\n"
     ]
    }
   ],
   "source": [
    "# step 11\n",
    "\n",
    "january_average = data[data.index.month == 1].mean()\n",
    "print(january_average)\n"
   ]
  },
  {
   "cell_type": "code",
   "execution_count": 59,
   "id": "cdb7b865",
   "metadata": {},
   "outputs": [
    {
     "name": "stdout",
     "output_type": "stream",
     "text": [
      "                  RPT        VAL        ROS       KIL        SHA       BIR  \\\n",
      "date                                                                         \n",
      "1961-12-31  12.299583  10.351796  11.362369  6.958227  10.881763  7.729726   \n",
      "1962-12-31  12.246923  10.110438  11.732712  6.960440  10.657918  7.393068   \n",
      "1963-12-31  12.813452  10.836986  12.541151  7.330055  11.724110  8.434712   \n",
      "1964-12-31  12.363661  10.920164  12.104372  6.787787  11.454481  7.570874   \n",
      "1965-12-31  12.451370  11.075534  11.848767  6.858466  11.024795  7.478110   \n",
      "1966-12-31  13.461973  11.557205  12.020630  7.345726  11.805041  7.793671   \n",
      "1967-12-31  12.737151  10.990986  11.739397  7.143425  11.630740  7.368164   \n",
      "1968-12-31  11.835628  10.468197  11.409754  6.477678  10.760765  6.067322   \n",
      "1969-12-31  11.166356   9.723699  10.902000  5.767973   9.873918  6.189973   \n",
      "1970-12-31  12.600329  10.726932  11.730247  6.217178  10.567370  7.609452   \n",
      "1971-12-31  11.273123   9.095178  11.088329  5.241507   9.440329  6.097151   \n",
      "1972-12-31  12.463962  10.561311  12.058333  5.929699   9.430410  6.358825   \n",
      "1973-12-31  11.828466  10.680493  10.680493  5.547863   9.640877  6.548740   \n",
      "1974-12-31  13.643096  11.811781  12.336356  6.427041  11.110986  6.809781   \n",
      "1975-12-31  12.008575  10.293836  11.564712  5.269096   9.190082  5.668521   \n",
      "1976-12-31  11.737842  10.203115  10.761230  5.109426   8.846339  6.311038   \n",
      "1977-12-31  13.099616  11.144493  12.627836  6.073945  10.003836  8.586438   \n",
      "1978-12-31  12.504356  11.044274  11.380000  6.082356  10.167233  7.650658   \n",
      "\n",
      "                  DUB        CLA       MUL        CLO        BEL        MAL  \n",
      "date                                                                         \n",
      "1961-12-31   9.733923   8.858788  8.647652   9.835577  13.502795  13.680773  \n",
      "1962-12-31  11.020712   8.793753  8.316822   9.676247  12.930685  14.323956  \n",
      "1963-12-31  11.075699  10.336548  8.903589  10.224438  13.638877  14.999014  \n",
      "1964-12-31  10.259153   9.467350  7.789016  10.207951  13.740546  14.910301  \n",
      "1965-12-31  10.618712   8.879918  7.907425   9.918082  12.964247  15.591644  \n",
      "1966-12-31  10.579808   8.835096  8.514438   9.768959  14.265836  16.307260  \n",
      "1967-12-31  10.652027   9.325616  8.645014   9.547425  14.774548  17.135945  \n",
      "1968-12-31   8.859180   8.255519  7.224945   7.832978  12.808634  15.017486  \n",
      "1969-12-31   8.564493   7.711397  7.924521   7.754384  12.621233  15.762904  \n",
      "1970-12-31   9.609890   8.334630  9.297616   8.289808  13.183644  16.456027  \n",
      "1971-12-31   8.385890   6.757315  7.915370   7.229753  12.208932  15.025233  \n",
      "1972-12-31   9.704508   7.680792  8.357295   7.515273  12.727377  15.028716  \n",
      "1973-12-31   8.482110   7.614274  8.245534   7.812411  12.169699  15.441096  \n",
      "1974-12-31  10.084603   9.896986  9.331753   8.736356  13.252959  16.947671  \n",
      "1975-12-31   8.562603   7.843836  8.797945   7.382822  12.631671  15.307863  \n",
      "1976-12-31   9.149126   7.146202  8.883716   7.883087  12.332377  15.471448  \n",
      "1977-12-31  11.523205   8.378384  9.098192   8.821616  13.459068  16.590849  \n",
      "1978-12-31   9.489342   8.800466  9.089753   8.301699  12.967397  16.771370  \n"
     ]
    }
   ],
   "source": [
    "# step 12\n",
    "\n",
    "data_yearly = data.resample('Y').mean()\n",
    "print(data_yearly)"
   ]
  },
  {
   "cell_type": "code",
   "execution_count": 60,
   "id": "49f8c37d",
   "metadata": {},
   "outputs": [
    {
     "name": "stdout",
     "output_type": "stream",
     "text": [
      "                  RPT        VAL        ROS       KIL        SHA        BIR  \\\n",
      "date                                                                          \n",
      "1961-01-31  14.841333  11.988333  13.431613  7.736774  11.072759   8.588065   \n",
      "1961-02-28  16.269286  14.975357  14.441481  9.230741  13.852143  10.937500   \n",
      "1961-03-31  10.890000  11.296452  10.752903  7.284000  10.509355   8.866774   \n",
      "1961-04-30  10.722667   9.427667   9.998000  5.830667   8.435000   6.495000   \n",
      "1961-05-31   9.860968   8.850000  10.818065  5.905333   9.490323   6.574839   \n",
      "...               ...        ...        ...       ...        ...        ...   \n",
      "1978-08-31   9.645161   8.259355   9.032258  4.502903   7.368065   5.935161   \n",
      "1978-09-30  10.913667  10.895000  10.635000  5.725000  10.372000   9.278333   \n",
      "1978-10-31   9.897742   8.670968   9.295806  4.721290   8.525161   6.774194   \n",
      "1978-11-30  16.151667  14.802667  13.508000  7.317333  11.475000   8.743000   \n",
      "1978-12-31  16.175484  13.748065  15.635161  7.094839  11.398710   9.241613   \n",
      "\n",
      "                  DUB        CLA        MUL        CLO        BEL        MAL  \n",
      "date                                                                          \n",
      "1961-01-31  11.184839   9.245333   9.085806  10.107419  13.880968  14.703226  \n",
      "1961-02-28  11.890714  11.846071  11.821429  12.714286  18.583214  15.411786  \n",
      "1961-03-31   9.644194   9.829677  10.294138  11.251935  16.410968  15.720000  \n",
      "1961-04-30   6.925333   7.094667   7.342333   7.237000  11.147333  10.278333  \n",
      "1961-05-31   7.604000   8.177097   8.039355   8.499355  11.900323  12.011613  \n",
      "...               ...        ...        ...        ...        ...        ...  \n",
      "1978-08-31   5.650323   5.417742   7.241290   5.536774  10.466774  12.054194  \n",
      "1978-09-30  10.790333   9.583000  10.069333   8.939000  15.680333  19.391333  \n",
      "1978-10-31   8.115484   7.337742   8.297742   8.243871  13.776774  17.150000  \n",
      "1978-11-30  11.492333   9.657333  10.701333  10.676000  17.404667  20.723000  \n",
      "1978-12-31  12.077419  10.194839  10.616774  11.028710  13.859677  21.371613  \n",
      "\n",
      "[216 rows x 12 columns]\n"
     ]
    }
   ],
   "source": [
    "# step 13\n",
    "\n",
    "data_monthly = data.resample('M').mean()\n",
    "print(data_monthly)"
   ]
  },
  {
   "cell_type": "code",
   "execution_count": 61,
   "id": "88ef9910",
   "metadata": {},
   "outputs": [
    {
     "name": "stdout",
     "output_type": "stream",
     "text": [
      "                  RPT        VAL        ROS        KIL        SHA        BIR  \\\n",
      "date                                                                           \n",
      "1961-01-01  15.040000  14.960000  13.170000   9.290000        NaN   9.870000   \n",
      "1961-01-08  13.541429  11.486667  10.487143   6.417143   9.474286   6.435714   \n",
      "1961-01-15  12.468571   8.967143  11.958571   4.630000   7.351429   5.072857   \n",
      "1961-01-22  13.204286   9.862857  12.982857   6.328571   8.966667   7.417143   \n",
      "1961-01-29  19.880000  16.141429  18.225714  12.720000  17.432857  14.828571   \n",
      "...               ...        ...        ...        ...        ...        ...   \n",
      "1978-12-03  14.934286  11.232857  13.941429   5.565714  10.215714   8.618571   \n",
      "1978-12-10  20.740000  19.190000  17.034286   9.777143  15.287143  12.774286   \n",
      "1978-12-17  16.758571  14.692857  14.987143   6.917143  11.397143   7.272857   \n",
      "1978-12-24  11.155714   8.008571  13.172857   4.004286   7.825714   6.290000   \n",
      "1978-12-31  14.951429  11.801429  16.035714   6.507143   9.660000   8.620000   \n",
      "\n",
      "                  DUB        CLA        MUL        CLO        BEL        MAL  \n",
      "date                                                                          \n",
      "1961-01-01  13.670000  10.250000  10.830000  12.580000  18.500000  15.040000  \n",
      "1961-01-08  11.061429   6.616667   8.434286   8.497143  12.481429  13.238571  \n",
      "1961-01-15   7.535714   6.820000   5.712857   7.571429  11.125714  11.024286  \n",
      "1961-01-22   9.257143   7.875714   7.145714   8.124286   9.821429  11.434286  \n",
      "1961-01-29  15.528571  15.160000  14.480000  15.640000  20.930000  22.530000  \n",
      "...               ...        ...        ...        ...        ...        ...  \n",
      "1978-12-03   9.642857   7.685714   9.011429   9.547143  11.835714  18.728571  \n",
      "1978-12-10  14.437143  12.488571  13.870000  14.082857  18.517143  23.061429  \n",
      "1978-12-17  10.208571   7.967143   9.168571   8.565714  11.102857  15.562857  \n",
      "1978-12-24   7.798571   8.667143   7.151429   8.072857  11.845714  18.977143  \n",
      "1978-12-31  13.708571  10.477143  10.868571  11.471429  12.947143  26.844286  \n",
      "\n",
      "[940 rows x 12 columns]\n"
     ]
    }
   ],
   "source": [
    "# step 14\n",
    "data_weekly = data.resample('W').mean()\n",
    "print(data_weekly)"
   ]
  },
  {
   "cell_type": "code",
   "execution_count": 65,
   "id": "1dd103dc",
   "metadata": {},
   "outputs": [
    {
     "name": "stdout",
     "output_type": "stream",
     "text": [
      "                  RPT        VAL        ROS        KIL        SHA        BIR  \\\n",
      "date                                                                           \n",
      "1961-01-01  15.040000  14.960000  13.170000   9.290000        NaN   9.870000   \n",
      "1961-01-08  13.541429  11.486667  10.487143   6.417143   9.474286   6.435714   \n",
      "1961-01-15  12.468571   8.967143  11.958571   4.630000   7.351429   5.072857   \n",
      "1961-01-22  13.204286   9.862857  12.982857   6.328571   8.966667   7.417143   \n",
      "1961-01-29  19.880000  16.141429  18.225714  12.720000  17.432857  14.828571   \n",
      "...               ...        ...        ...        ...        ...        ...   \n",
      "1978-12-03  14.934286  11.232857  13.941429   5.565714  10.215714   8.618571   \n",
      "1978-12-10  20.740000  19.190000  17.034286   9.777143  15.287143  12.774286   \n",
      "1978-12-17  16.758571  14.692857  14.987143   6.917143  11.397143   7.272857   \n",
      "1978-12-24  11.155714   8.008571  13.172857   4.004286   7.825714   6.290000   \n",
      "1978-12-31  14.951429  11.801429  16.035714   6.507143   9.660000   8.620000   \n",
      "\n",
      "                  DUB        CLA        MUL        CLO        BEL        MAL  \n",
      "date                                                                          \n",
      "1961-01-01  13.670000  10.250000  10.830000  12.580000  18.500000  15.040000  \n",
      "1961-01-08  11.061429   6.616667   8.434286   8.497143  12.481429  13.238571  \n",
      "1961-01-15   7.535714   6.820000   5.712857   7.571429  11.125714  11.024286  \n",
      "1961-01-22   9.257143   7.875714   7.145714   8.124286   9.821429  11.434286  \n",
      "1961-01-29  15.528571  15.160000  14.480000  15.640000  20.930000  22.530000  \n",
      "...               ...        ...        ...        ...        ...        ...  \n",
      "1978-12-03   9.642857   7.685714   9.011429   9.547143  11.835714  18.728571  \n",
      "1978-12-10  14.437143  12.488571  13.870000  14.082857  18.517143  23.061429  \n",
      "1978-12-17  10.208571   7.967143   9.168571   8.565714  11.102857  15.562857  \n",
      "1978-12-24   7.798571   8.667143   7.151429   8.072857  11.845714  18.977143  \n",
      "1978-12-31  13.708571  10.477143  10.868571  11.471429  12.947143  26.844286  \n",
      "\n",
      "[940 rows x 12 columns]\n"
     ]
    }
   ],
   "source": [
    "# step 15\n",
    "weekly_stats = data_weekly.iloc[1:53].agg(['min', 'max', 'mean', 'std'])\n",
    "print(data_weekly)"
   ]
  },
  {
   "cell_type": "markdown",
   "id": "4072dc77",
   "metadata": {},
   "source": [
    "# Question 5\n",
    "<ol>\n",
    "    <li>Import the necessary libraries</li>\n",
    "    <li>Import the dataset from this address.</li>\n",
    "    <li>Assign it to a variable called chipo.</li>\n",
    "    <li>See the first 10 entries</li>\n",
    "    <li>What is the number of observations in the dataset?</li>\n",
    "    <li>What is the number of columns in the dataset?</li>\n",
    "    <li>Print the name of all the columns.</li>\n",
    "    <li>How is the dataset indexed?</li>\n",
    "    <li>Which was the most-ordered item?</li>\n",
    "    <li>For the most-ordered item, how many items were ordered?</li>\n",
    "    <li>What was the most ordered item in the choice_description column?</li>\n",
    "    <li>How many items were orderd in total?</li>\n",
    "    <li>\n",
    "        <ul>\n",
    "            <li>Turn the item price into a float</li>\n",
    "            <li>Check the item price type</li>\n",
    "            <li>Create a lambda function and change the type of item price</li>\n",
    "            <li>Check the item price type</li>\n",
    "        </ul>    \n",
    "    </li>\n",
    "    <li>How much was the revenue for the period in the dataset?</li>\n",
    "    <li>How many orders were made in the period?</li>\n",
    "    <li>What is the average revenue amount per order?</li>\n",
    "    <li>How many different items are sold?</li>\n",
    "</ol>    "
   ]
  },
  {
   "cell_type": "code",
   "execution_count": 66,
   "id": "52befe75",
   "metadata": {},
   "outputs": [
    {
     "name": "stdout",
     "output_type": "stream",
     "text": [
      "   order_id  quantity                              item_name  \\\n",
      "0         1         1           Chips and Fresh Tomato Salsa   \n",
      "1         1         1                                   Izze   \n",
      "2         1         1                       Nantucket Nectar   \n",
      "3         1         1  Chips and Tomatillo-Green Chili Salsa   \n",
      "4         2         2                           Chicken Bowl   \n",
      "5         3         1                           Chicken Bowl   \n",
      "6         3         1                          Side of Chips   \n",
      "7         4         1                          Steak Burrito   \n",
      "8         4         1                       Steak Soft Tacos   \n",
      "9         5         1                          Steak Burrito   \n",
      "\n",
      "                                  choice_description item_price  \n",
      "0                                                NaN     $2.39   \n",
      "1                                       [Clementine]     $3.39   \n",
      "2                                            [Apple]     $3.39   \n",
      "3                                                NaN     $2.39   \n",
      "4  [Tomatillo-Red Chili Salsa (Hot), [Black Beans...    $16.98   \n",
      "5  [Fresh Tomato Salsa (Mild), [Rice, Cheese, Sou...    $10.98   \n",
      "6                                                NaN     $1.69   \n",
      "7  [Tomatillo Red Chili Salsa, [Fajita Vegetables...    $11.75   \n",
      "8  [Tomatillo Green Chili Salsa, [Pinto Beans, Ch...     $9.25   \n",
      "9  [Fresh Tomato Salsa, [Rice, Black Beans, Pinto...     $9.25   \n"
     ]
    }
   ],
   "source": [
    "# Step 1\n",
    "import pandas as pd\n",
    "\n",
    "# Step 2\n",
    "url = 'https://raw.githubusercontent.com/justmarkham/DAT8/master/data/chipotle.tsv'\n",
    "\n",
    "#Step 3\n",
    "chipo = pd.read_csv(url, delimiter='\\t')\n",
    "\n",
    "# Step 4\n",
    "print(chipo.head(10))\n"
   ]
  },
  {
   "cell_type": "code",
   "execution_count": 67,
   "id": "a22ac270",
   "metadata": {},
   "outputs": [
    {
     "name": "stdout",
     "output_type": "stream",
     "text": [
      "Number of observations: 4622\n"
     ]
    }
   ],
   "source": [
    "# Step 5\n",
    "num_observations = len(chipo)\n",
    "print(\"Number of observations:\", num_observations)"
   ]
  },
  {
   "cell_type": "code",
   "execution_count": 68,
   "id": "0fc20b39",
   "metadata": {},
   "outputs": [
    {
     "name": "stdout",
     "output_type": "stream",
     "text": [
      "Number of columns: 5\n"
     ]
    }
   ],
   "source": [
    "# Step 6\n",
    "num_columns = chipo.shape[1]\n",
    "print(\"Number of columns:\", num_columns)"
   ]
  },
  {
   "cell_type": "code",
   "execution_count": 69,
   "id": "0a34fa87",
   "metadata": {},
   "outputs": [
    {
     "name": "stdout",
     "output_type": "stream",
     "text": [
      "Columns: ['order_id', 'quantity', 'item_name', 'choice_description', 'item_price']\n"
     ]
    }
   ],
   "source": [
    "# Step 7\n",
    "print(\"Columns:\", chipo.columns.tolist())"
   ]
  },
  {
   "cell_type": "code",
   "execution_count": 70,
   "id": "b2bf0977",
   "metadata": {},
   "outputs": [
    {
     "name": "stdout",
     "output_type": "stream",
     "text": [
      "Index: RangeIndex(start=0, stop=4622, step=1)\n"
     ]
    }
   ],
   "source": [
    "# Step 8\n",
    "print(\"Index:\", chipo.index)"
   ]
  },
  {
   "cell_type": "code",
   "execution_count": 71,
   "id": "06d7440b",
   "metadata": {},
   "outputs": [
    {
     "name": "stdout",
     "output_type": "stream",
     "text": [
      "Most-ordered item: Chicken Bowl\n"
     ]
    }
   ],
   "source": [
    "# Step 9\n",
    "most_ordered_item = chipo['item_name'].value_counts().idxmax()\n",
    "print(\"Most-ordered item:\", most_ordered_item)"
   ]
  },
  {
   "cell_type": "code",
   "execution_count": 72,
   "id": "581d9d03",
   "metadata": {},
   "outputs": [
    {
     "name": "stdout",
     "output_type": "stream",
     "text": [
      "Quantity ordered for most-ordered item: 761\n"
     ]
    }
   ],
   "source": [
    "# Step 10\n",
    "most_ordered_item_count = chipo[chipo['item_name'] == most_ordered_item]['quantity'].sum()\n",
    "print(\"Quantity ordered for most-ordered item:\", most_ordered_item_count)"
   ]
  },
  {
   "cell_type": "code",
   "execution_count": 73,
   "id": "31d07d30",
   "metadata": {},
   "outputs": [
    {
     "name": "stdout",
     "output_type": "stream",
     "text": [
      "Most-ordered item in choice_description: [Diet Coke]\n"
     ]
    }
   ],
   "source": [
    "# Step 11\n",
    "most_ordered_choice_description = chipo['choice_description'].value_counts().idxmax()\n",
    "print(\"Most-ordered item in choice_description:\", most_ordered_choice_description)"
   ]
  },
  {
   "cell_type": "code",
   "execution_count": 74,
   "id": "58927e5f",
   "metadata": {},
   "outputs": [
    {
     "name": "stdout",
     "output_type": "stream",
     "text": [
      "Total items ordered: 4972\n"
     ]
    }
   ],
   "source": [
    "# Step 12\n",
    "total_items_ordered = chipo['quantity'].sum()\n",
    "print(\"Total items ordered:\", total_items_ordered)"
   ]
  },
  {
   "cell_type": "code",
   "execution_count": 75,
   "id": "f887c7c8",
   "metadata": {},
   "outputs": [
    {
     "name": "stdout",
     "output_type": "stream",
     "text": [
      "Item price type after conversion: <class 'numpy.float64'>\n"
     ]
    }
   ],
   "source": [
    "# Step 13\n",
    "\n",
    "# Remove the dollar sign and convert to float\n",
    "chipo['item_price'] = chipo['item_price'].apply(lambda x: float(x[1:]))\n",
    "\n",
    "# Check the item price type\n",
    "print(\"Item price type after conversion:\", type(chipo['item_price'].iloc[0]))"
   ]
  },
  {
   "cell_type": "code",
   "execution_count": 76,
   "id": "192cba68",
   "metadata": {},
   "outputs": [
    {
     "name": "stdout",
     "output_type": "stream",
     "text": [
      "Total revenue: 39237.02\n"
     ]
    }
   ],
   "source": [
    "# Step 14\n",
    "revenue = (chipo['item_price'] * chipo['quantity']).sum()\n",
    "print(\"Total revenue:\", revenue)\n"
   ]
  },
  {
   "cell_type": "code",
   "execution_count": 77,
   "id": "119843ce",
   "metadata": {},
   "outputs": [
    {
     "name": "stdout",
     "output_type": "stream",
     "text": [
      "Number of orders: 1834\n"
     ]
    }
   ],
   "source": [
    "# Step 15\n",
    "num_orders = chipo['order_id'].nunique()\n",
    "print(\"Number of orders:\", num_orders)"
   ]
  },
  {
   "cell_type": "code",
   "execution_count": 78,
   "id": "300a58cc",
   "metadata": {},
   "outputs": [
    {
     "name": "stdout",
     "output_type": "stream",
     "text": [
      "Average revenue per order: 21.39423118865867\n"
     ]
    }
   ],
   "source": [
    "# Step 16\n",
    "average_revenue_per_order = revenue / num_orders\n",
    "print(\"Average revenue per order:\", average_revenue_per_order)"
   ]
  },
  {
   "cell_type": "code",
   "execution_count": 79,
   "id": "e1b7abd0",
   "metadata": {},
   "outputs": [
    {
     "name": "stdout",
     "output_type": "stream",
     "text": [
      "Number of different items sold: 50\n"
     ]
    }
   ],
   "source": [
    "# Step 17\n",
    "num_unique_items = chipo['item_name'].nunique()\n",
    "print(\"Number of different items sold:\", num_unique_items)"
   ]
  },
  {
   "cell_type": "markdown",
   "id": "5089c3da",
   "metadata": {},
   "source": [
    "# Question 6\n",
    "Create a line plot showing the number of marriages and divorces per capita in the\n",
    "U.S. between 1867 and 2014. Label both lines and show the legend.\n",
    "Don't forget to label your axes!"
   ]
  },
  {
   "cell_type": "code",
   "execution_count": 2,
   "id": "b443f8e5",
   "metadata": {},
   "outputs": [
    {
     "data": {
      "image/png": "[encoded data removed]",
      "text/plain": [
       "<Figure size 1000x600 with 1 Axes>"
      ]
     },
     "metadata": {},
     "output_type": "display_data"
    }
   ],
   "source": [
    "import pandas as pd\n",
    "import matplotlib.pyplot as plt\n",
    "\n",
    "# Load the data from the CSV file\n",
    "data = pd.read_csv(r\"C:\\Users\\91975\\Downloads\\us-marriages-divorces-1867-2014.csv\")\n",
    "\n",
    "# Calculate per capita values\n",
    "data['Marriages_per_capita'] = data['Marriages'] / data['Population'] * 1000\n",
    "data['Divorces_per_capita'] = data['Divorces'] / data['Population'] * 1000\n",
    "\n",
    "# Extract the years and per capita values for plotting\n",
    "years = data['Year']\n",
    "marriages_per_capita = data['Marriages_per_capita']\n",
    "divorces_per_capita = data['Divorces_per_capita']\n",
    "\n",
    "# Create the line plot\n",
    "plt.figure(figsize=(10, 6))\n",
    "plt.plot(years, marriages_per_capita, label='Marriages per capita', color='blue')\n",
    "plt.plot(years, divorces_per_capita, label='Divorces per capita', color='red')\n",
    "\n",
    "# Add labels and legend\n",
    "plt.xlabel('Year')\n",
    "plt.ylabel('Per Capita Count')\n",
    "plt.title('Number of Marriages and Divorces per Capita in the U.S. (1867-2014)')\n",
    "plt.legend()\n",
    "\n",
    "# Show the plot\n",
    "plt.grid(True)\n",
    "plt.show()\n",
    "\n"
   ]
  },
  {
   "cell_type": "markdown",
   "id": "e00ced98",
   "metadata": {},
   "source": [
    "# Question 7\n",
    "Create a vertical bar chart comparing the number of marriages and divorces per\n",
    "capita in the U.S. between 1900, 1950, and 2000.\n",
    "Don't forget to label your axes!"
   ]
  },
  {
   "cell_type": "code",
   "execution_count": 6,
   "id": "bccd5f03",
   "metadata": {},
   "outputs": [
    {
     "data": {
      "image/png": "[encoded data removed]",
      "text/plain": [
       "<Figure size 1000x600 with 1 Axes>"
      ]
     },
     "metadata": {},
     "output_type": "display_data"
    }
   ],
   "source": [
    "import pandas as pd\n",
    "import matplotlib.pyplot as plt\n",
    "\n",
    "# Load the data from the CSV file\n",
    "data = pd.read_csv(\"us-marriages-divorces-1867-2014.csv\")\n",
    "\n",
    "# Calculate per capita values\n",
    "data['Marriages_per_capita'] = data['Marriages'] / data['Population'] * 1000\n",
    "data['Divorces_per_capita'] = data['Divorces'] / data['Population'] * 1000\n",
    "\n",
    "# Filter data for years 1900, 1950, and 2000\n",
    "years_of_interest = [1900, 1950, 2000]\n",
    "filtered_data = data[data['Year'].isin(years_of_interest)]\n",
    "\n",
    "# Extract the years and per capita values for plotting\n",
    "years = filtered_data['Year']\n",
    "marriages_per_capita = filtered_data['Marriages_per_capita']\n",
    "divorces_per_capita = filtered_data['Divorces_per_capita']\n",
    "\n",
    "# Create the bar chart\n",
    "plt.figure(figsize=(10, 6))\n",
    "bar_width = 0.35\n",
    "index = range(len(years))\n",
    "\n",
    "plt.bar(index, marriages_per_capita, bar_width, label='Marriages per capita', color='DarkSeaGreen')\n",
    "plt.bar([i + bar_width for i in index], divorces_per_capita, bar_width, label='Divorces per capita', color='Crimson')\n",
    "\n",
    "# Add labels and legend\n",
    "plt.xlabel('Year')\n",
    "plt.ylabel('Per Capita Count')\n",
    "plt.title('Number of Marriages and Divorces per Capita in the U.S. (1900, 1950, 2000)')\n",
    "plt.xticks([i + bar_width / 2 for i in index], years)\n",
    "plt.legend()\n",
    "\n",
    "# Show the plot\n",
    "plt.grid(True)\n",
    "plt.show()\n"
   ]
  },
  {
   "cell_type": "markdown",
   "id": "4b05004b",
   "metadata": {},
   "source": [
    "# Question 8\n",
    "Create a horizontal bar chart that compares the deadliest actors in Hollywood. Sort\n",
    "the actors by their kill count and label each bar with the corresponding actor's name.\n",
    "Don't forget to label your axes!\n"
   ]
  },
  {
   "cell_type": "code",
   "execution_count": 5,
   "id": "4aa86446",
   "metadata": {},
   "outputs": [
    {
     "data": {
      "image/png": "[encoded data removed]",
      "text/plain": [
       "<Figure size 1000x600 with 1 Axes>"
      ]
     },
     "metadata": {},
     "output_type": "display_data"
    }
   ],
   "source": [
    "import pandas as pd\n",
    "import matplotlib.pyplot as plt\n",
    "\n",
    "# Load the data from the CSV file\n",
    "data = pd.read_csv(\"actor_kill_counts.csv\")\n",
    "\n",
    "# Sort the data by kill count in descending order\n",
    "data.sort_values(by='Count', ascending=False, inplace=True)\n",
    "\n",
    "# Extract the actor names and kill counts for plotting\n",
    "actors = data['Actor']\n",
    "kill_counts = data['Count']\n",
    "\n",
    "# Create the horizontal bar chart\n",
    "plt.figure(figsize=(10, 6))\n",
    "plt.barh(actors, kill_counts, color='Aquamarine')\n",
    "\n",
    "# Add labels and title\n",
    "plt.xlabel('Kill Count')\n",
    "plt.ylabel('Actor')\n",
    "plt.title('Deadliest Actors in Hollywood Based on Kill Count')\n",
    "\n",
    "# Add labels to each bar\n",
    "for index, value in enumerate(kill_counts):\n",
    "    plt.text(value, index, str(value), color='black', ha='left', va='center')\n",
    "\n",
    "# Show the plot\n",
    "plt.grid(True)\n",
    "plt.tight_layout()\n",
    "plt.show()\n",
    "\n"
   ]
  },
  {
   "cell_type": "markdown",
   "id": "07ba1241",
   "metadata": {},
   "source": [
    "# Question 9\n",
    "Create a pie chart showing the fraction of all Roman Emperors that were\n",
    "assassinated.\n",
    "<br>\n",
    "Make sure that the pie chart is an even circle, labels the categories, and shows the\n",
    "percentage breakdown of the categories."
   ]
  },
  {
   "cell_type": "code",
   "execution_count": 4,
   "id": "70bd24d5",
   "metadata": {},
   "outputs": [
    {
     "data": {
      "image/png": "[encoded data removed]",
      "text/plain": [
       "<Figure size 800x800 with 1 Axes>"
      ]
     },
     "metadata": {},
     "output_type": "display_data"
    }
   ],
   "source": [
    "import pandas as pd\n",
    "import matplotlib.pyplot as plt\n",
    "\n",
    "# Load the data from the CSV file\n",
    "data = pd.read_csv(\"roman-emperor-reigns.csv\")\n",
    "\n",
    "# Count the number of emperors who were assassinated\n",
    "assassinated_count = data[data['Cause_of_Death'] == 'Assassinated'].shape[0]\n",
    "\n",
    "# Count the total number of emperors\n",
    "total_emperors = data.shape[0]\n",
    "\n",
    "# Calculate the percentage of emperors who were assassinated\n",
    "percentage_assassinated = (assassinated_count / total_emperors) * 100\n",
    "\n",
    "# Calculate the percentage of emperors who died from other causes\n",
    "percentage_other_causes = 100 - percentage_assassinated\n",
    "\n",
    "# Create the pie chart\n",
    "plt.figure(figsize=(8, 8))\n",
    "labels = ['Assassinated', 'Other Causes']\n",
    "sizes = [percentage_assassinated, percentage_other_causes]\n",
    "colors = ['orange', 'CornflowerBlue']\n",
    "plt.pie(sizes, labels=labels, colors=colors, autopct='%1.1f%%', startangle=140)\n",
    "\n",
    "# Add title\n",
    "plt.title('Fraction of Roman Emperors Assassinated')\n",
    "\n",
    "# Show the plot\n",
    "plt.axis('equal')  # Equal aspect ratio ensures that pie is drawn as a circle.\n",
    "plt.show()\n"
   ]
  },
  {
   "cell_type": "markdown",
   "id": "098116da",
   "metadata": {},
   "source": [
    "# Question 10\n",
    "Create a scatter plot showing the relationship between the total revenue earned by\n",
    "arcades and the number of Computer Science PhDs awarded in the U.S. between\n",
    "2000 and 2009.\n",
    "<br>\n",
    "Don't forget to label your axes!\n",
    "<br>\n",
    "Color each dot according to its year"
   ]
  },
  {
   "cell_type": "code",
   "execution_count": 5,
   "id": "9fa828df",
   "metadata": {},
   "outputs": [
    {
     "data": {
      "image/png": "[encoded data removed]",
      "text/plain": [
       "<Figure size 1000x600 with 2 Axes>"
      ]
     },
     "metadata": {},
     "output_type": "display_data"
    }
   ],
   "source": [
    "import pandas as pd\n",
    "import matplotlib.pyplot as plt\n",
    "\n",
    "# Load the data from the CSV file\n",
    "data = pd.read_csv(\"arcade-revenue-vs-cs-doctorates.csv\")\n",
    "\n",
    "# Extract the data for plotting\n",
    "years = data['Year']\n",
    "revenue = data['Total Arcade Revenue (billions)']\n",
    "doctorates = data['Computer Science Doctorates Awarded (US)']\n",
    "\n",
    "# Create the scatter plot\n",
    "plt.figure(figsize=(10, 6))\n",
    "plt.scatter(revenue, doctorates, c=years, cmap='viridis', edgecolors='k')\n",
    "\n",
    "# Add labels and title\n",
    "plt.xlabel('Total Arcade Revenue (billions)')\n",
    "plt.ylabel('Computer Science Doctorates Awarded (US)')\n",
    "plt.title('Relationship between Arcade Revenue and Computer Science Doctorates')\n",
    "\n",
    "# Add colorbar to show the year mapping\n",
    "cbar = plt.colorbar()\n",
    "cbar.set_label('Year')\n",
    "\n",
    "# Show the plot\n",
    "plt.grid(True)\n",
    "plt.tight_layout()\n",
    "plt.show()\n"
   ]
  },
  {
   "cell_type": "code",
   "execution_count": null,
   "id": "5702f574",
   "metadata": {},
   "outputs": [],
   "source": []
  }
 ],
 "metadata": {
  "kernelspec": {
   "display_name": "Python 3 (ipykernel)",
   "language": "python",
   "name": "python3"
  },
  "language_info": {
   "codemirror_mode": {
    "name": "ipython",
    "version": 3
   },
   "file_extension": ".py",
   "mimetype": "text/x-python",
   "name": "python",
   "nbconvert_exporter": "python",
   "pygments_lexer": "ipython3",
   "version": "3.10.9"
  }
 },
 "nbformat": 4,
 "nbformat_minor": 5
}
